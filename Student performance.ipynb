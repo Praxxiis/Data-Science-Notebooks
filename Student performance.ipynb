{
 "cells": [
  {
   "cell_type": "code",
   "execution_count": 2,
   "id": "a887a4c0",
   "metadata": {},
   "outputs": [],
   "source": [
    "import numpy as np\n",
    "import matplotlib.pyplot as plt\n",
    "import pandas as pd\n",
    "import seaborn as sns\n",
    "import scipy\n",
    "from scipy.stats import shapiro"
   ]
  },
  {
   "cell_type": "code",
   "execution_count": 3,
   "id": "cdd4cd8c",
   "metadata": {},
   "outputs": [],
   "source": [
    "datos = pd.read_csv(\"C:\\\\Users\\\\Ignacio\\\\Desktop\\\\Ciencia de datos\\\\student perfirmance prediction\\\\exams.csv\")"
   ]
  },
  {
   "cell_type": "code",
   "execution_count": 4,
   "id": "bf059a6e",
   "metadata": {},
   "outputs": [
    {
     "data": {
      "text/html": [
       "<div>\n",
       "<style scoped>\n",
       "    .dataframe tbody tr th:only-of-type {\n",
       "        vertical-align: middle;\n",
       "    }\n",
       "\n",
       "    .dataframe tbody tr th {\n",
       "        vertical-align: top;\n",
       "    }\n",
       "\n",
       "    .dataframe thead th {\n",
       "        text-align: right;\n",
       "    }\n",
       "</style>\n",
       "<table border=\"1\" class=\"dataframe\">\n",
       "  <thead>\n",
       "    <tr style=\"text-align: right;\">\n",
       "      <th></th>\n",
       "      <th>gender</th>\n",
       "      <th>race/ethnicity</th>\n",
       "      <th>parental level of education</th>\n",
       "      <th>lunch</th>\n",
       "      <th>test preparation course</th>\n",
       "      <th>math score</th>\n",
       "      <th>reading score</th>\n",
       "      <th>writing score</th>\n",
       "    </tr>\n",
       "  </thead>\n",
       "  <tbody>\n",
       "    <tr>\n",
       "      <th>0</th>\n",
       "      <td>female</td>\n",
       "      <td>group D</td>\n",
       "      <td>some college</td>\n",
       "      <td>standard</td>\n",
       "      <td>completed</td>\n",
       "      <td>59</td>\n",
       "      <td>70</td>\n",
       "      <td>78</td>\n",
       "    </tr>\n",
       "    <tr>\n",
       "      <th>1</th>\n",
       "      <td>male</td>\n",
       "      <td>group D</td>\n",
       "      <td>associate's degree</td>\n",
       "      <td>standard</td>\n",
       "      <td>none</td>\n",
       "      <td>96</td>\n",
       "      <td>93</td>\n",
       "      <td>87</td>\n",
       "    </tr>\n",
       "    <tr>\n",
       "      <th>2</th>\n",
       "      <td>female</td>\n",
       "      <td>group D</td>\n",
       "      <td>some college</td>\n",
       "      <td>free/reduced</td>\n",
       "      <td>none</td>\n",
       "      <td>57</td>\n",
       "      <td>76</td>\n",
       "      <td>77</td>\n",
       "    </tr>\n",
       "    <tr>\n",
       "      <th>3</th>\n",
       "      <td>male</td>\n",
       "      <td>group B</td>\n",
       "      <td>some college</td>\n",
       "      <td>free/reduced</td>\n",
       "      <td>none</td>\n",
       "      <td>70</td>\n",
       "      <td>70</td>\n",
       "      <td>63</td>\n",
       "    </tr>\n",
       "    <tr>\n",
       "      <th>4</th>\n",
       "      <td>female</td>\n",
       "      <td>group D</td>\n",
       "      <td>associate's degree</td>\n",
       "      <td>standard</td>\n",
       "      <td>none</td>\n",
       "      <td>83</td>\n",
       "      <td>85</td>\n",
       "      <td>86</td>\n",
       "    </tr>\n",
       "    <tr>\n",
       "      <th>...</th>\n",
       "      <td>...</td>\n",
       "      <td>...</td>\n",
       "      <td>...</td>\n",
       "      <td>...</td>\n",
       "      <td>...</td>\n",
       "      <td>...</td>\n",
       "      <td>...</td>\n",
       "      <td>...</td>\n",
       "    </tr>\n",
       "    <tr>\n",
       "      <th>995</th>\n",
       "      <td>male</td>\n",
       "      <td>group C</td>\n",
       "      <td>some college</td>\n",
       "      <td>standard</td>\n",
       "      <td>none</td>\n",
       "      <td>77</td>\n",
       "      <td>77</td>\n",
       "      <td>71</td>\n",
       "    </tr>\n",
       "    <tr>\n",
       "      <th>996</th>\n",
       "      <td>male</td>\n",
       "      <td>group C</td>\n",
       "      <td>some college</td>\n",
       "      <td>standard</td>\n",
       "      <td>none</td>\n",
       "      <td>80</td>\n",
       "      <td>66</td>\n",
       "      <td>66</td>\n",
       "    </tr>\n",
       "    <tr>\n",
       "      <th>997</th>\n",
       "      <td>female</td>\n",
       "      <td>group A</td>\n",
       "      <td>high school</td>\n",
       "      <td>standard</td>\n",
       "      <td>completed</td>\n",
       "      <td>67</td>\n",
       "      <td>86</td>\n",
       "      <td>86</td>\n",
       "    </tr>\n",
       "    <tr>\n",
       "      <th>998</th>\n",
       "      <td>male</td>\n",
       "      <td>group E</td>\n",
       "      <td>high school</td>\n",
       "      <td>standard</td>\n",
       "      <td>none</td>\n",
       "      <td>80</td>\n",
       "      <td>72</td>\n",
       "      <td>62</td>\n",
       "    </tr>\n",
       "    <tr>\n",
       "      <th>999</th>\n",
       "      <td>male</td>\n",
       "      <td>group D</td>\n",
       "      <td>high school</td>\n",
       "      <td>standard</td>\n",
       "      <td>none</td>\n",
       "      <td>58</td>\n",
       "      <td>47</td>\n",
       "      <td>45</td>\n",
       "    </tr>\n",
       "  </tbody>\n",
       "</table>\n",
       "<p>1000 rows × 8 columns</p>\n",
       "</div>"
      ],
      "text/plain": [
       "     gender race/ethnicity parental level of education         lunch  \\\n",
       "0    female        group D                some college      standard   \n",
       "1      male        group D          associate's degree      standard   \n",
       "2    female        group D                some college  free/reduced   \n",
       "3      male        group B                some college  free/reduced   \n",
       "4    female        group D          associate's degree      standard   \n",
       "..      ...            ...                         ...           ...   \n",
       "995    male        group C                some college      standard   \n",
       "996    male        group C                some college      standard   \n",
       "997  female        group A                 high school      standard   \n",
       "998    male        group E                 high school      standard   \n",
       "999    male        group D                 high school      standard   \n",
       "\n",
       "    test preparation course  math score  reading score  writing score  \n",
       "0                 completed          59             70             78  \n",
       "1                      none          96             93             87  \n",
       "2                      none          57             76             77  \n",
       "3                      none          70             70             63  \n",
       "4                      none          83             85             86  \n",
       "..                      ...         ...            ...            ...  \n",
       "995                    none          77             77             71  \n",
       "996                    none          80             66             66  \n",
       "997               completed          67             86             86  \n",
       "998                    none          80             72             62  \n",
       "999                    none          58             47             45  \n",
       "\n",
       "[1000 rows x 8 columns]"
      ]
     },
     "execution_count": 4,
     "metadata": {},
     "output_type": "execute_result"
    }
   ],
   "source": [
    "datos"
   ]
  },
  {
   "cell_type": "markdown",
   "id": "4ed51a6b",
   "metadata": {},
   "source": [
    "## Dictionary\n",
    "\n",
    "### Columns:\n",
    "#### • Gender: The gender of the student (male/female)\n",
    "#### • Race/ethnicity: The student's racial or ethnic background (Asian, African-American, Hispanic, etc.)\n",
    "#### • Parental level of education: The highest level of education attained by the student's parent(s) or guardian(s)\n",
    "#### • Lunch: Whether the student receives free or reduced-price lunch (yes/no)\n",
    "#### • Test preparation course: Whether the student completed a test preparation course (yes/no)\n",
    "#### • Math score: The student's score on a standardized mathematics test\n",
    "#### • Reading score: The student's score on a standardized reading test\n",
    "#### • Writing score: The student's score on a standardized writing test"
   ]
  },
  {
   "cell_type": "code",
   "execution_count": 5,
   "id": "9bb267bd",
   "metadata": {},
   "outputs": [
    {
     "data": {
      "text/plain": [
       "gender                         0\n",
       "race/ethnicity                 0\n",
       "parental level of education    0\n",
       "lunch                          0\n",
       "test preparation course        0\n",
       "math score                     0\n",
       "reading score                  0\n",
       "writing score                  0\n",
       "dtype: int64"
      ]
     },
     "execution_count": 5,
     "metadata": {},
     "output_type": "execute_result"
    }
   ],
   "source": [
    "datos.isnull().sum()"
   ]
  },
  {
   "cell_type": "code",
   "execution_count": 6,
   "id": "e729b36c",
   "metadata": {},
   "outputs": [
    {
     "name": "stdout",
     "output_type": "stream",
     "text": [
      "<class 'pandas.core.frame.DataFrame'>\n",
      "RangeIndex: 1000 entries, 0 to 999\n",
      "Data columns (total 8 columns):\n",
      " #   Column                       Non-Null Count  Dtype \n",
      "---  ------                       --------------  ----- \n",
      " 0   gender                       1000 non-null   object\n",
      " 1   race/ethnicity               1000 non-null   object\n",
      " 2   parental level of education  1000 non-null   object\n",
      " 3   lunch                        1000 non-null   object\n",
      " 4   test preparation course      1000 non-null   object\n",
      " 5   math score                   1000 non-null   int64 \n",
      " 6   reading score                1000 non-null   int64 \n",
      " 7   writing score                1000 non-null   int64 \n",
      "dtypes: int64(3), object(5)\n",
      "memory usage: 62.6+ KB\n"
     ]
    }
   ],
   "source": [
    "datos.info()"
   ]
  },
  {
   "cell_type": "code",
   "execution_count": 7,
   "id": "549f7b61",
   "metadata": {},
   "outputs": [
    {
     "data": {
      "text/plain": [
       "[array(['female', 'male'], dtype=object),\n",
       " array(['group A', 'group B', 'group C', 'group D', 'group E'],\n",
       "       dtype=object),\n",
       " array([\"associate's degree\", \"bachelor's degree\", 'high school',\n",
       "        \"master's degree\", 'some college', 'some high school'],\n",
       "       dtype=object),\n",
       " array(['free/reduced', 'standard'], dtype=object),\n",
       " array(['completed', 'none'], dtype=object)]"
      ]
     },
     "execution_count": 7,
     "metadata": {},
     "output_type": "execute_result"
    }
   ],
   "source": [
    "from sklearn.preprocessing import OrdinalEncoder\n",
    "ordinal_encoder = OrdinalEncoder()\n",
    "group = datos[[\"gender\",\"race/ethnicity\",\"parental level of education\",\"lunch\",\"test preparation course\"]]\n",
    "datos[[\"gender\",\"race/ethnicity\",\"parental level of education\",\"lunch\",\"test preparation course\"]] = pd.DataFrame(ordinal_encoder.fit_transform(group))\n",
    "ordinal_encoder.categories_"
   ]
  },
  {
   "cell_type": "markdown",
   "id": "73fe39db",
   "metadata": {},
   "source": [
    "female = 0;male = 1;||\n",
    "group A = 0, group B = 1, group C = 2, group D = 3, group E = 4;||\n",
    "associate's degree = 0, bachelor's degree = 1, high school = 2, master's degree = 3, some college = 4, some high school = 5;||\n",
    "free/reduced = 0, standard = 1;||\n",
    "completed = 0, none = 1\n"
   ]
  },
  {
   "cell_type": "code",
   "execution_count": 8,
   "id": "542b5a66",
   "metadata": {},
   "outputs": [
    {
     "data": {
      "text/plain": [
       "0      69.000000\n",
       "1      92.000000\n",
       "2      70.000000\n",
       "3      67.666667\n",
       "4      84.666667\n",
       "         ...    \n",
       "995    75.000000\n",
       "996    70.666667\n",
       "997    79.666667\n",
       "998    71.333333\n",
       "999    50.000000\n",
       "Length: 1000, dtype: float64"
      ]
     },
     "execution_count": 8,
     "metadata": {},
     "output_type": "execute_result"
    }
   ],
   "source": [
    "score_total = (datos[\"math score\"] + datos[\"reading score\"] + datos[\"writing score\"])/3\n",
    "score_total"
   ]
  },
  {
   "cell_type": "code",
   "execution_count": 9,
   "id": "8ab4cc52",
   "metadata": {
    "scrolled": true
   },
   "outputs": [
    {
     "data": {
      "text/html": [
       "<div>\n",
       "<style scoped>\n",
       "    .dataframe tbody tr th:only-of-type {\n",
       "        vertical-align: middle;\n",
       "    }\n",
       "\n",
       "    .dataframe tbody tr th {\n",
       "        vertical-align: top;\n",
       "    }\n",
       "\n",
       "    .dataframe thead th {\n",
       "        text-align: right;\n",
       "    }\n",
       "</style>\n",
       "<table border=\"1\" class=\"dataframe\">\n",
       "  <thead>\n",
       "    <tr style=\"text-align: right;\">\n",
       "      <th></th>\n",
       "      <th>gender</th>\n",
       "      <th>race/ethnicity</th>\n",
       "      <th>parental level of education</th>\n",
       "      <th>lunch</th>\n",
       "      <th>test preparation course</th>\n",
       "      <th>math score</th>\n",
       "      <th>reading score</th>\n",
       "      <th>writing score</th>\n",
       "    </tr>\n",
       "  </thead>\n",
       "  <tbody>\n",
       "    <tr>\n",
       "      <th>0</th>\n",
       "      <td>0.0</td>\n",
       "      <td>3.0</td>\n",
       "      <td>4.0</td>\n",
       "      <td>1.0</td>\n",
       "      <td>0.0</td>\n",
       "      <td>59</td>\n",
       "      <td>70</td>\n",
       "      <td>78</td>\n",
       "    </tr>\n",
       "    <tr>\n",
       "      <th>1</th>\n",
       "      <td>1.0</td>\n",
       "      <td>3.0</td>\n",
       "      <td>0.0</td>\n",
       "      <td>1.0</td>\n",
       "      <td>1.0</td>\n",
       "      <td>96</td>\n",
       "      <td>93</td>\n",
       "      <td>87</td>\n",
       "    </tr>\n",
       "    <tr>\n",
       "      <th>2</th>\n",
       "      <td>0.0</td>\n",
       "      <td>3.0</td>\n",
       "      <td>4.0</td>\n",
       "      <td>0.0</td>\n",
       "      <td>1.0</td>\n",
       "      <td>57</td>\n",
       "      <td>76</td>\n",
       "      <td>77</td>\n",
       "    </tr>\n",
       "    <tr>\n",
       "      <th>3</th>\n",
       "      <td>1.0</td>\n",
       "      <td>1.0</td>\n",
       "      <td>4.0</td>\n",
       "      <td>0.0</td>\n",
       "      <td>1.0</td>\n",
       "      <td>70</td>\n",
       "      <td>70</td>\n",
       "      <td>63</td>\n",
       "    </tr>\n",
       "    <tr>\n",
       "      <th>4</th>\n",
       "      <td>0.0</td>\n",
       "      <td>3.0</td>\n",
       "      <td>0.0</td>\n",
       "      <td>1.0</td>\n",
       "      <td>1.0</td>\n",
       "      <td>83</td>\n",
       "      <td>85</td>\n",
       "      <td>86</td>\n",
       "    </tr>\n",
       "    <tr>\n",
       "      <th>...</th>\n",
       "      <td>...</td>\n",
       "      <td>...</td>\n",
       "      <td>...</td>\n",
       "      <td>...</td>\n",
       "      <td>...</td>\n",
       "      <td>...</td>\n",
       "      <td>...</td>\n",
       "      <td>...</td>\n",
       "    </tr>\n",
       "    <tr>\n",
       "      <th>995</th>\n",
       "      <td>1.0</td>\n",
       "      <td>2.0</td>\n",
       "      <td>4.0</td>\n",
       "      <td>1.0</td>\n",
       "      <td>1.0</td>\n",
       "      <td>77</td>\n",
       "      <td>77</td>\n",
       "      <td>71</td>\n",
       "    </tr>\n",
       "    <tr>\n",
       "      <th>996</th>\n",
       "      <td>1.0</td>\n",
       "      <td>2.0</td>\n",
       "      <td>4.0</td>\n",
       "      <td>1.0</td>\n",
       "      <td>1.0</td>\n",
       "      <td>80</td>\n",
       "      <td>66</td>\n",
       "      <td>66</td>\n",
       "    </tr>\n",
       "    <tr>\n",
       "      <th>997</th>\n",
       "      <td>0.0</td>\n",
       "      <td>0.0</td>\n",
       "      <td>2.0</td>\n",
       "      <td>1.0</td>\n",
       "      <td>0.0</td>\n",
       "      <td>67</td>\n",
       "      <td>86</td>\n",
       "      <td>86</td>\n",
       "    </tr>\n",
       "    <tr>\n",
       "      <th>998</th>\n",
       "      <td>1.0</td>\n",
       "      <td>4.0</td>\n",
       "      <td>2.0</td>\n",
       "      <td>1.0</td>\n",
       "      <td>1.0</td>\n",
       "      <td>80</td>\n",
       "      <td>72</td>\n",
       "      <td>62</td>\n",
       "    </tr>\n",
       "    <tr>\n",
       "      <th>999</th>\n",
       "      <td>1.0</td>\n",
       "      <td>3.0</td>\n",
       "      <td>2.0</td>\n",
       "      <td>1.0</td>\n",
       "      <td>1.0</td>\n",
       "      <td>58</td>\n",
       "      <td>47</td>\n",
       "      <td>45</td>\n",
       "    </tr>\n",
       "  </tbody>\n",
       "</table>\n",
       "<p>1000 rows × 8 columns</p>\n",
       "</div>"
      ],
      "text/plain": [
       "     gender  race/ethnicity  parental level of education  lunch  \\\n",
       "0       0.0             3.0                          4.0    1.0   \n",
       "1       1.0             3.0                          0.0    1.0   \n",
       "2       0.0             3.0                          4.0    0.0   \n",
       "3       1.0             1.0                          4.0    0.0   \n",
       "4       0.0             3.0                          0.0    1.0   \n",
       "..      ...             ...                          ...    ...   \n",
       "995     1.0             2.0                          4.0    1.0   \n",
       "996     1.0             2.0                          4.0    1.0   \n",
       "997     0.0             0.0                          2.0    1.0   \n",
       "998     1.0             4.0                          2.0    1.0   \n",
       "999     1.0             3.0                          2.0    1.0   \n",
       "\n",
       "     test preparation course  math score  reading score  writing score  \n",
       "0                        0.0          59             70             78  \n",
       "1                        1.0          96             93             87  \n",
       "2                        1.0          57             76             77  \n",
       "3                        1.0          70             70             63  \n",
       "4                        1.0          83             85             86  \n",
       "..                       ...         ...            ...            ...  \n",
       "995                      1.0          77             77             71  \n",
       "996                      1.0          80             66             66  \n",
       "997                      0.0          67             86             86  \n",
       "998                      1.0          80             72             62  \n",
       "999                      1.0          58             47             45  \n",
       "\n",
       "[1000 rows x 8 columns]"
      ]
     },
     "execution_count": 9,
     "metadata": {},
     "output_type": "execute_result"
    }
   ],
   "source": [
    "datos"
   ]
  },
  {
   "cell_type": "markdown",
   "id": "b9d01996",
   "metadata": {},
   "source": [
    "## Data Analysis"
   ]
  },
  {
   "cell_type": "code",
   "execution_count": 10,
   "id": "f2231c68",
   "metadata": {},
   "outputs": [
    {
     "data": {
      "text/plain": [
       "array([[<Axes: title={'center': 'gender'}>,\n",
       "        <Axes: title={'center': 'race/ethnicity'}>,\n",
       "        <Axes: title={'center': 'parental level of education'}>],\n",
       "       [<Axes: title={'center': 'lunch'}>,\n",
       "        <Axes: title={'center': 'test preparation course'}>,\n",
       "        <Axes: title={'center': 'math score'}>],\n",
       "       [<Axes: title={'center': 'reading score'}>,\n",
       "        <Axes: title={'center': 'writing score'}>, <Axes: >]],\n",
       "      dtype=object)"
      ]
     },
     "execution_count": 10,
     "metadata": {},
     "output_type": "execute_result"
    },
    {
     "data": {
      "image/png": "[encoded data removed]",
      "text/plain": [
       "<Figure size 640x480 with 9 Axes>"
      ]
     },
     "metadata": {},
     "output_type": "display_data"
    }
   ],
   "source": [
    "datos.hist()"
   ]
  },
  {
   "cell_type": "markdown",
   "id": "53b314a6",
   "metadata": {},
   "source": [
    "### Distribución de población"
   ]
  },
  {
   "cell_type": "code",
   "execution_count": 11,
   "id": "09b9cc8a",
   "metadata": {},
   "outputs": [
    {
     "data": {
      "text/plain": [
       "Text(0.5, 1.0, 'percentage of male and female population')"
      ]
     },
     "execution_count": 11,
     "metadata": {},
     "output_type": "execute_result"
    },
    {
     "data": {
      "image/png": "[encoded data removed]",
      "text/plain": [
       "<Figure size 640x480 with 1 Axes>"
      ]
     },
     "metadata": {},
     "output_type": "display_data"
    }
   ],
   "source": [
    "female = sum(datos[\"gender\"] == 0)\n",
    "male = sum(datos[\"gender\"] == 1) \n",
    "sex = [male,female]\n",
    "names = [\"male\",\"female\"]\n",
    "plt.pie(sex,labels = names,autopct=\"%0.1f %%\")\n",
    "plt.title(\"percentage of male and female population\")"
   ]
  },
  {
   "cell_type": "code",
   "execution_count": 12,
   "id": "cbd683d8",
   "metadata": {},
   "outputs": [
    {
     "data": {
      "image/png": "[encoded data removed]",
      "text/plain": [
       "<Figure size 640x480 with 1 Axes>"
      ]
     },
     "metadata": {},
     "output_type": "display_data"
    }
   ],
   "source": [
    "#Defino nuevas variables para ver la relacion entre gender y race/ethnicity para luego sacar porcentajes\n",
    "raice_0 = datos[\"race/ethnicity\"]==0\n",
    "raice_1 = datos[\"race/ethnicity\"]==1\n",
    "raice_2 = datos[\"race/ethnicity\"]==2\n",
    "raice_3 = datos[\"race/ethnicity\"]==3\n",
    "raice_4 = datos[\"race/ethnicity\"]==4\n",
    "\n",
    "names = ['group A', 'group B', 'group C', 'group D', 'group E']\n",
    "\n",
    "raice_t = [sum(raice_0),sum(raice_1),sum(raice_2),sum(raice_3),sum(raice_4)]\n",
    "plt.pie(raice_t,labels = names,autopct=\"%0.1f %%\")\n",
    "plt.title(\"Percentage of different groups (ethnic)\")\n",
    "\n",
    "\n",
    "gender_raice_f = datos.loc[datos[\"gender\"]==0 , \"race/ethnicity\"]\n",
    "gender_raice_f = pd.DataFrame(gender_raice_f)\n",
    "gender_raice_f0 = gender_raice_f[\"race/ethnicity\"]==0\n",
    "gender_raice_f1 = gender_raice_f[\"race/ethnicity\"]==1\n",
    "gender_raice_f2 = gender_raice_f[\"race/ethnicity\"]==2\n",
    "gender_raice_f3 = gender_raice_f[\"race/ethnicity\"]==3\n",
    "gender_raice_f4 = gender_raice_f[\"race/ethnicity\"]==4\n",
    "\n",
    "\n",
    "gender_raice_f_t = [sum(gender_raice_f0),sum(gender_raice_f1),sum(gender_raice_f2),sum(gender_raice_f3),sum(gender_raice_f4)]\n",
    "\n",
    "\n",
    "\n",
    "gender_raice_m = datos.loc[datos[\"gender\"]==1 , \"race/ethnicity\"]\n",
    "gender_raice_m = pd.DataFrame(gender_raice_m)\n",
    "gender_raice_m0 = gender_raice_m[\"race/ethnicity\"]==0\n",
    "gender_raice_m1 = gender_raice_m[\"race/ethnicity\"]==1\n",
    "gender_raice_m2 = gender_raice_m[\"race/ethnicity\"]==2\n",
    "gender_raice_m3 = gender_raice_m[\"race/ethnicity\"]==3\n",
    "gender_raice_m4 = gender_raice_m[\"race/ethnicity\"]==4\n",
    "\n",
    "\n",
    "gender_raice_m_t = [sum(gender_raice_m0),sum(gender_raice_m1),sum(gender_raice_m2),sum(gender_raice_m3),sum(gender_raice_m4)]\n"
   ]
  },
  {
   "cell_type": "code",
   "execution_count": 13,
   "id": "2d3d05ae",
   "metadata": {},
   "outputs": [
    {
     "data": {
      "text/plain": [
       "Text(0.5, 1.0, 'Percentage of women of different groups (ethnic)')"
      ]
     },
     "execution_count": 13,
     "metadata": {},
     "output_type": "execute_result"
    },
    {
     "data": {
      "image/png": "[encoded data removed]",
      "text/plain": [
       "<Figure size 640x480 with 1 Axes>"
      ]
     },
     "metadata": {},
     "output_type": "display_data"
    }
   ],
   "source": [
    "plt.pie(gender_raice_f_t,labels = names,autopct=\"%0.1f %%\")\n",
    "plt.title(\"Percentage of women of different groups (ethnic)\")"
   ]
  },
  {
   "cell_type": "code",
   "execution_count": 14,
   "id": "ba11e5ea",
   "metadata": {},
   "outputs": [
    {
     "data": {
      "text/plain": [
       "Text(0.5, 1.0, 'Percentage of men of different groups (ethnic)')"
      ]
     },
     "execution_count": 14,
     "metadata": {},
     "output_type": "execute_result"
    },
    {
     "data": {
      "image/png": "[encoded data removed]",
      "text/plain": [
       "<Figure size 640x480 with 1 Axes>"
      ]
     },
     "metadata": {},
     "output_type": "display_data"
    }
   ],
   "source": [
    "plt.pie(gender_raice_m_t,labels = names,autopct=\"%0.1f %%\")\n",
    "plt.title(\"Percentage of men of different groups (ethnic)\")"
   ]
  },
  {
   "cell_type": "markdown",
   "id": "10c027ce",
   "metadata": {},
   "source": [
    "Como existen datos que no cumplen con la condición de distribución normal lo mejor será usar la correlación de Spearman o Kendall"
   ]
  },
  {
   "cell_type": "code",
   "execution_count": 15,
   "id": "352f7616",
   "metadata": {},
   "outputs": [
    {
     "data": {
      "text/plain": [
       "array([[<Axes: title={'center': 'math score'}>,\n",
       "        <Axes: title={'center': 'reading score'}>],\n",
       "       [<Axes: title={'center': 'writing score'}>, <Axes: >]],\n",
       "      dtype=object)"
      ]
     },
     "execution_count": 15,
     "metadata": {},
     "output_type": "execute_result"
    },
    {
     "data": {
      "image/png": "[encoded data removed]",
      "text/plain": [
       "<Figure size 640x480 with 4 Axes>"
      ]
     },
     "metadata": {},
     "output_type": "display_data"
    }
   ],
   "source": [
    "scores = datos[[\"math score\",\"reading score\",\"writing score\"]]\n",
    "scores.hist()"
   ]
  },
  {
   "cell_type": "code",
   "execution_count": 16,
   "id": "14395843",
   "metadata": {},
   "outputs": [],
   "source": [
    "math_f = datos.loc[datos[\"gender\"]==0,\"math score\"]\n",
    "math_f = pd.DataFrame(math_f)\n",
    "math_m = datos.loc[datos[\"gender\"]==1,\"math score\"]\n",
    "math_m = pd.DataFrame(math_m)\n",
    "writing_f = datos.loc[datos[\"gender\"]==0,\"writing score\"]\n",
    "writing_f = pd.DataFrame(writing_f)\n",
    "writing_m = datos.loc[datos[\"gender\"]==1,\"writing score\"]\n",
    "writing_m = pd.DataFrame(writing_m)\n",
    "reading_f = datos.loc[datos[\"gender\"]==0,\"reading score\"]\n",
    "reading_f = pd.DataFrame(reading_f)\n",
    "reading_m = datos.loc[datos[\"gender\"]==1,\"reading score\"]\n",
    "reading_m = pd.DataFrame(reading_m)"
   ]
  },
  {
   "cell_type": "code",
   "execution_count": 17,
   "id": "4e27f44c",
   "metadata": {
    "scrolled": false
   },
   "outputs": [
    {
     "data": {
      "image/png": "[encoded data removed]",
      "text/plain": [
       "<Figure size 640x480 with 3 Axes>"
      ]
     },
     "metadata": {},
     "output_type": "display_data"
    }
   ],
   "source": [
    "fig, ax = plt.subplots(1,3)\n",
    "ax[0].scatter(math_f,writing_f,label = \"female\")\n",
    "ax[0].scatter(math_m,writing_m,label=\"male\")\n",
    "ax[0].legend()\n",
    "ax[0].set_xlabel(\"Math score\")\n",
    "ax[0].set_ylabel(\"Writing score\")\n",
    "\n",
    "\n",
    "ax[1].scatter(math_f,reading_f,label = \"female\")\n",
    "ax[1].scatter(math_m,reading_m,label=\"male\")\n",
    "ax[1].legend()\n",
    "ax[1].set_xlabel(\"Math score\")\n",
    "ax[1].set_ylabel(\"Reading score\")\n",
    "\n",
    "ax[2].scatter(reading_f,writing_f,label = \"female\")\n",
    "ax[2].scatter(reading_m,writing_m,label=\"male\")\n",
    "ax[2].legend()\n",
    "ax[2].set_xlabel(\"Reading score\")\n",
    "ax[2].set_ylabel(\"Writing score\")\n",
    "plt.show()\n"
   ]
  },
  {
   "cell_type": "code",
   "execution_count": 18,
   "id": "3c69a72f",
   "metadata": {
    "scrolled": false
   },
   "outputs": [
    {
     "data": {
      "text/plain": [
       "<Axes: xlabel='gender', ylabel='math score'>"
      ]
     },
     "execution_count": 18,
     "metadata": {},
     "output_type": "execute_result"
    },
    {
     "data": {
      "image/png": "[encoded data removed]",
      "text/plain": [
       "<Figure size 640x480 with 1 Axes>"
      ]
     },
     "metadata": {},
     "output_type": "display_data"
    }
   ],
   "source": [
    "sns.boxplot(x = datos[\"gender\"],y = datos[\"math score\"])"
   ]
  },
  {
   "cell_type": "code",
   "execution_count": 19,
   "id": "fc36349b",
   "metadata": {},
   "outputs": [
    {
     "data": {
      "text/plain": [
       "<Axes: xlabel='gender', ylabel='reading score'>"
      ]
     },
     "execution_count": 19,
     "metadata": {},
     "output_type": "execute_result"
    },
    {
     "data": {
      "image/png": "[encoded data removed]",
      "text/plain": [
       "<Figure size 640x480 with 1 Axes>"
      ]
     },
     "metadata": {},
     "output_type": "display_data"
    }
   ],
   "source": [
    "sns.boxplot(x = datos[\"gender\"],y = datos[\"reading score\"])"
   ]
  },
  {
   "cell_type": "code",
   "execution_count": 20,
   "id": "b173a69a",
   "metadata": {},
   "outputs": [
    {
     "data": {
      "text/plain": [
       "<Axes: xlabel='gender', ylabel='writing score'>"
      ]
     },
     "execution_count": 20,
     "metadata": {},
     "output_type": "execute_result"
    },
    {
     "data": {
      "image/png": "[encoded data removed]",
      "text/plain": [
       "<Figure size 640x480 with 1 Axes>"
      ]
     },
     "metadata": {},
     "output_type": "display_data"
    }
   ],
   "source": [
    "sns.boxplot(x = datos[\"gender\"],y = datos[\"writing score\"])"
   ]
  },
  {
   "cell_type": "code",
   "execution_count": 21,
   "id": "20991e43",
   "metadata": {
    "scrolled": false
   },
   "outputs": [
    {
     "data": {
      "text/html": [
       "<style type=\"text/css\">\n",
       "#T_c359a_row0_col0, #T_c359a_row1_col1, #T_c359a_row2_col2, #T_c359a_row3_col3, #T_c359a_row4_col4, #T_c359a_row5_col5, #T_c359a_row6_col6, #T_c359a_row7_col7 {\n",
       "  background-color: #7f2704;\n",
       "  color: #f1f1f1;\n",
       "}\n",
       "#T_c359a_row0_col1 {\n",
       "  background-color: #ffeede;\n",
       "  color: #000000;\n",
       "}\n",
       "#T_c359a_row0_col2 {\n",
       "  background-color: #fee9d3;\n",
       "  color: #000000;\n",
       "}\n",
       "#T_c359a_row0_col3 {\n",
       "  background-color: #fff5ea;\n",
       "  color: #000000;\n",
       "}\n",
       "#T_c359a_row0_col4, #T_c359a_row1_col0 {\n",
       "  background-color: #fdd4aa;\n",
       "  color: #000000;\n",
       "}\n",
       "#T_c359a_row0_col5 {\n",
       "  background-color: #fdd5ab;\n",
       "  color: #000000;\n",
       "}\n",
       "#T_c359a_row0_col6, #T_c359a_row1_col3, #T_c359a_row4_col1, #T_c359a_row4_col5, #T_c359a_row4_col6, #T_c359a_row4_col7, #T_c359a_row7_col0, #T_c359a_row7_col2, #T_c359a_row7_col4 {\n",
       "  background-color: #fff5eb;\n",
       "  color: #000000;\n",
       "}\n",
       "#T_c359a_row0_col7, #T_c359a_row2_col5, #T_c359a_row5_col2 {\n",
       "  background-color: #fff3e7;\n",
       "  color: #000000;\n",
       "}\n",
       "#T_c359a_row1_col2 {\n",
       "  background-color: #fee8d2;\n",
       "  color: #000000;\n",
       "}\n",
       "#T_c359a_row1_col4, #T_c359a_row6_col3 {\n",
       "  background-color: #fddab6;\n",
       "  color: #000000;\n",
       "}\n",
       "#T_c359a_row1_col5 {\n",
       "  background-color: #fdd1a3;\n",
       "  color: #000000;\n",
       "}\n",
       "#T_c359a_row1_col6 {\n",
       "  background-color: #fdd0a2;\n",
       "  color: #000000;\n",
       "}\n",
       "#T_c359a_row1_col7 {\n",
       "  background-color: #fdc189;\n",
       "  color: #000000;\n",
       "}\n",
       "#T_c359a_row2_col0 {\n",
       "  background-color: #fdd8b2;\n",
       "  color: #000000;\n",
       "}\n",
       "#T_c359a_row2_col1 {\n",
       "  background-color: #fff0e1;\n",
       "  color: #000000;\n",
       "}\n",
       "#T_c359a_row2_col3 {\n",
       "  background-color: #fff2e6;\n",
       "  color: #000000;\n",
       "}\n",
       "#T_c359a_row2_col4 {\n",
       "  background-color: #fdd7af;\n",
       "  color: #000000;\n",
       "}\n",
       "#T_c359a_row2_col6 {\n",
       "  background-color: #feebd7;\n",
       "  color: #000000;\n",
       "}\n",
       "#T_c359a_row2_col7, #T_c359a_row5_col4 {\n",
       "  background-color: #fee5cc;\n",
       "  color: #000000;\n",
       "}\n",
       "#T_c359a_row3_col0 {\n",
       "  background-color: #fdd9b4;\n",
       "  color: #000000;\n",
       "}\n",
       "#T_c359a_row3_col1 {\n",
       "  background-color: #fff3e6;\n",
       "  color: #000000;\n",
       "}\n",
       "#T_c359a_row3_col2 {\n",
       "  background-color: #fee7d1;\n",
       "  color: #000000;\n",
       "}\n",
       "#T_c359a_row3_col4 {\n",
       "  background-color: #fdc895;\n",
       "  color: #000000;\n",
       "}\n",
       "#T_c359a_row3_col5, #T_c359a_row3_col7 {\n",
       "  background-color: #fdb271;\n",
       "  color: #000000;\n",
       "}\n",
       "#T_c359a_row3_col6 {\n",
       "  background-color: #fdbd83;\n",
       "  color: #000000;\n",
       "}\n",
       "#T_c359a_row4_col0 {\n",
       "  background-color: #fdd6ae;\n",
       "  color: #000000;\n",
       "}\n",
       "#T_c359a_row4_col2 {\n",
       "  background-color: #feead6;\n",
       "  color: #000000;\n",
       "}\n",
       "#T_c359a_row4_col3 {\n",
       "  background-color: #feebd8;\n",
       "  color: #000000;\n",
       "}\n",
       "#T_c359a_row5_col0 {\n",
       "  background-color: #fdbf86;\n",
       "  color: #000000;\n",
       "}\n",
       "#T_c359a_row5_col1, #T_c359a_row7_col3 {\n",
       "  background-color: #fddbb8;\n",
       "  color: #000000;\n",
       "}\n",
       "#T_c359a_row5_col3 {\n",
       "  background-color: #fdc48f;\n",
       "  color: #000000;\n",
       "}\n",
       "#T_c359a_row5_col6 {\n",
       "  background-color: #e75c0c;\n",
       "  color: #f1f1f1;\n",
       "}\n",
       "#T_c359a_row5_col7 {\n",
       "  background-color: #e85d0c;\n",
       "  color: #f1f1f1;\n",
       "}\n",
       "#T_c359a_row6_col0 {\n",
       "  background-color: #fff0e2;\n",
       "  color: #000000;\n",
       "}\n",
       "#T_c359a_row6_col1 {\n",
       "  background-color: #fee6ce;\n",
       "  color: #000000;\n",
       "}\n",
       "#T_c359a_row6_col2 {\n",
       "  background-color: #fff4e9;\n",
       "  color: #000000;\n",
       "}\n",
       "#T_c359a_row6_col4 {\n",
       "  background-color: #ffeedd;\n",
       "  color: #000000;\n",
       "}\n",
       "#T_c359a_row6_col5 {\n",
       "  background-color: #ed6310;\n",
       "  color: #f1f1f1;\n",
       "}\n",
       "#T_c359a_row6_col7 {\n",
       "  background-color: #b03903;\n",
       "  color: #f1f1f1;\n",
       "}\n",
       "#T_c359a_row7_col1 {\n",
       "  background-color: #fee4ca;\n",
       "  color: #000000;\n",
       "}\n",
       "#T_c359a_row7_col5 {\n",
       "  background-color: #f16913;\n",
       "  color: #f1f1f1;\n",
       "}\n",
       "#T_c359a_row7_col6 {\n",
       "  background-color: #b33b02;\n",
       "  color: #f1f1f1;\n",
       "}\n",
       "</style>\n",
       "<table id=\"T_c359a\">\n",
       "  <thead>\n",
       "    <tr>\n",
       "      <th class=\"blank level0\" >&nbsp;</th>\n",
       "      <th id=\"T_c359a_level0_col0\" class=\"col_heading level0 col0\" >gender</th>\n",
       "      <th id=\"T_c359a_level0_col1\" class=\"col_heading level0 col1\" >race/ethnicity</th>\n",
       "      <th id=\"T_c359a_level0_col2\" class=\"col_heading level0 col2\" >parental level of education</th>\n",
       "      <th id=\"T_c359a_level0_col3\" class=\"col_heading level0 col3\" >lunch</th>\n",
       "      <th id=\"T_c359a_level0_col4\" class=\"col_heading level0 col4\" >test preparation course</th>\n",
       "      <th id=\"T_c359a_level0_col5\" class=\"col_heading level0 col5\" >math score</th>\n",
       "      <th id=\"T_c359a_level0_col6\" class=\"col_heading level0 col6\" >reading score</th>\n",
       "      <th id=\"T_c359a_level0_col7\" class=\"col_heading level0 col7\" >writing score</th>\n",
       "    </tr>\n",
       "  </thead>\n",
       "  <tbody>\n",
       "    <tr>\n",
       "      <th id=\"T_c359a_level0_row0\" class=\"row_heading level0 row0\" >gender</th>\n",
       "      <td id=\"T_c359a_row0_col0\" class=\"data row0 col0\" >1.000000</td>\n",
       "      <td id=\"T_c359a_row0_col1\" class=\"data row0 col1\" >0.047084</td>\n",
       "      <td id=\"T_c359a_row0_col2\" class=\"data row0 col2\" >0.022477</td>\n",
       "      <td id=\"T_c359a_row0_col3\" class=\"data row0 col3\" >0.015708</td>\n",
       "      <td id=\"T_c359a_row0_col4\" class=\"data row0 col4\" >0.032641</td>\n",
       "      <td id=\"T_c359a_row0_col5\" class=\"data row0 col5\" >0.153739</td>\n",
       "      <td id=\"T_c359a_row0_col6\" class=\"data row0 col6\" >-0.179531</td>\n",
       "      <td id=\"T_c359a_row0_col7\" class=\"data row0 col7\" >-0.232236</td>\n",
       "    </tr>\n",
       "    <tr>\n",
       "      <th id=\"T_c359a_level0_row1\" class=\"row_heading level0 row1\" >race/ethnicity</th>\n",
       "      <td id=\"T_c359a_row1_col0\" class=\"data row1 col0\" >0.047084</td>\n",
       "      <td id=\"T_c359a_row1_col1\" class=\"data row1 col1\" >1.000000</td>\n",
       "      <td id=\"T_c359a_row1_col2\" class=\"data row1 col2\" >0.033716</td>\n",
       "      <td id=\"T_c359a_row1_col3\" class=\"data row1 col3\" >0.011181</td>\n",
       "      <td id=\"T_c359a_row1_col4\" class=\"data row1 col4\" >-0.009688</td>\n",
       "      <td id=\"T_c359a_row1_col5\" class=\"data row1 col5\" >0.181307</td>\n",
       "      <td id=\"T_c359a_row1_col6\" class=\"data row1 col6\" >0.117902</td>\n",
       "      <td id=\"T_c359a_row1_col7\" class=\"data row1 col7\" >0.129787</td>\n",
       "    </tr>\n",
       "    <tr>\n",
       "      <th id=\"T_c359a_level0_row2\" class=\"row_heading level0 row2\" >parental level of education</th>\n",
       "      <td id=\"T_c359a_row2_col0\" class=\"data row2 col0\" >0.022477</td>\n",
       "      <td id=\"T_c359a_row2_col1\" class=\"data row2 col1\" >0.033716</td>\n",
       "      <td id=\"T_c359a_row2_col2\" class=\"data row2 col2\" >1.000000</td>\n",
       "      <td id=\"T_c359a_row2_col3\" class=\"data row2 col3\" >0.035081</td>\n",
       "      <td id=\"T_c359a_row2_col4\" class=\"data row2 col4\" >0.010275</td>\n",
       "      <td id=\"T_c359a_row2_col5\" class=\"data row2 col5\" >-0.069999</td>\n",
       "      <td id=\"T_c359a_row2_col6\" class=\"data row2 col6\" >-0.077714</td>\n",
       "      <td id=\"T_c359a_row2_col7\" class=\"data row2 col7\" >-0.088923</td>\n",
       "    </tr>\n",
       "    <tr>\n",
       "      <th id=\"T_c359a_level0_row3\" class=\"row_heading level0 row3\" >lunch</th>\n",
       "      <td id=\"T_c359a_row3_col0\" class=\"data row3 col0\" >0.015708</td>\n",
       "      <td id=\"T_c359a_row3_col1\" class=\"data row3 col1\" >0.011181</td>\n",
       "      <td id=\"T_c359a_row3_col2\" class=\"data row3 col2\" >0.035081</td>\n",
       "      <td id=\"T_c359a_row3_col3\" class=\"data row3 col3\" >1.000000</td>\n",
       "      <td id=\"T_c359a_row3_col4\" class=\"data row3 col4\" >0.093498</td>\n",
       "      <td id=\"T_c359a_row3_col5\" class=\"data row3 col5\" >0.301930</td>\n",
       "      <td id=\"T_c359a_row3_col6\" class=\"data row3 col6\" >0.200983</td>\n",
       "      <td id=\"T_c359a_row3_col7\" class=\"data row3 col7\" >0.197577</td>\n",
       "    </tr>\n",
       "    <tr>\n",
       "      <th id=\"T_c359a_level0_row4\" class=\"row_heading level0 row4\" >test preparation course</th>\n",
       "      <td id=\"T_c359a_row4_col0\" class=\"data row4 col0\" >0.032641</td>\n",
       "      <td id=\"T_c359a_row4_col1\" class=\"data row4 col1\" >-0.009688</td>\n",
       "      <td id=\"T_c359a_row4_col2\" class=\"data row4 col2\" >0.010275</td>\n",
       "      <td id=\"T_c359a_row4_col3\" class=\"data row4 col3\" >0.093498</td>\n",
       "      <td id=\"T_c359a_row4_col4\" class=\"data row4 col4\" >1.000000</td>\n",
       "      <td id=\"T_c359a_row4_col5\" class=\"data row4 col5\" >-0.090727</td>\n",
       "      <td id=\"T_c359a_row4_col6\" class=\"data row4 col6\" >-0.176620</td>\n",
       "      <td id=\"T_c359a_row4_col7\" class=\"data row4 col7\" >-0.254463</td>\n",
       "    </tr>\n",
       "    <tr>\n",
       "      <th id=\"T_c359a_level0_row5\" class=\"row_heading level0 row5\" >math score</th>\n",
       "      <td id=\"T_c359a_row5_col0\" class=\"data row5 col0\" >0.153739</td>\n",
       "      <td id=\"T_c359a_row5_col1\" class=\"data row5 col1\" >0.181307</td>\n",
       "      <td id=\"T_c359a_row5_col2\" class=\"data row5 col2\" >-0.069999</td>\n",
       "      <td id=\"T_c359a_row5_col3\" class=\"data row5 col3\" >0.301930</td>\n",
       "      <td id=\"T_c359a_row5_col4\" class=\"data row5 col4\" >-0.090727</td>\n",
       "      <td id=\"T_c359a_row5_col5\" class=\"data row5 col5\" >1.000000</td>\n",
       "      <td id=\"T_c359a_row5_col6\" class=\"data row5 col6\" >0.614651</td>\n",
       "      <td id=\"T_c359a_row5_col7\" class=\"data row5 col7\" >0.587189</td>\n",
       "    </tr>\n",
       "    <tr>\n",
       "      <th id=\"T_c359a_level0_row6\" class=\"row_heading level0 row6\" >reading score</th>\n",
       "      <td id=\"T_c359a_row6_col0\" class=\"data row6 col0\" >-0.179531</td>\n",
       "      <td id=\"T_c359a_row6_col1\" class=\"data row6 col1\" >0.117902</td>\n",
       "      <td id=\"T_c359a_row6_col2\" class=\"data row6 col2\" >-0.077714</td>\n",
       "      <td id=\"T_c359a_row6_col3\" class=\"data row6 col3\" >0.200983</td>\n",
       "      <td id=\"T_c359a_row6_col4\" class=\"data row6 col4\" >-0.176620</td>\n",
       "      <td id=\"T_c359a_row6_col5\" class=\"data row6 col5\" >0.614651</td>\n",
       "      <td id=\"T_c359a_row6_col6\" class=\"data row6 col6\" >1.000000</td>\n",
       "      <td id=\"T_c359a_row6_col7\" class=\"data row6 col7\" >0.812124</td>\n",
       "    </tr>\n",
       "    <tr>\n",
       "      <th id=\"T_c359a_level0_row7\" class=\"row_heading level0 row7\" >writing score</th>\n",
       "      <td id=\"T_c359a_row7_col0\" class=\"data row7 col0\" >-0.232236</td>\n",
       "      <td id=\"T_c359a_row7_col1\" class=\"data row7 col1\" >0.129787</td>\n",
       "      <td id=\"T_c359a_row7_col2\" class=\"data row7 col2\" >-0.088923</td>\n",
       "      <td id=\"T_c359a_row7_col3\" class=\"data row7 col3\" >0.197577</td>\n",
       "      <td id=\"T_c359a_row7_col4\" class=\"data row7 col4\" >-0.254463</td>\n",
       "      <td id=\"T_c359a_row7_col5\" class=\"data row7 col5\" >0.587189</td>\n",
       "      <td id=\"T_c359a_row7_col6\" class=\"data row7 col6\" >0.812124</td>\n",
       "      <td id=\"T_c359a_row7_col7\" class=\"data row7 col7\" >1.000000</td>\n",
       "    </tr>\n",
       "  </tbody>\n",
       "</table>\n"
      ],
      "text/plain": [
       "<pandas.io.formats.style.Styler at 0x246a100fb50>"
      ]
     },
     "execution_count": 21,
     "metadata": {},
     "output_type": "execute_result"
    }
   ],
   "source": [
    "corr = datos.corr(method=\"kendall\")\n",
    "corr.style.background_gradient(cmap = 'Oranges')"
   ]
  },
  {
   "cell_type": "markdown",
   "id": "7690b421",
   "metadata": {},
   "source": [
    "Por lo que se puede apreciar solo existen correlaciones importantes entre los puntajes entre materias, por lo que estos serán los predictores."
   ]
  },
  {
   "cell_type": "markdown",
   "id": "de9a3ac5",
   "metadata": {},
   "source": [
    "Además, se observa que aunque la población masculina sea levemente mayor que la femeninna, la población femenina se desempeña de mejor forma en las áreas de escritura (writing) y lectura (reading), mientras que en el área matemática (math) la población masculina se desempeña mejor.\n",
    "Esto, como podemos ver en la matriz de correlación tiene una influencia despreciable por parte de la \"raza\" o etnicidad, nivel de educación de los padres, si tiene o no beca de alimentación y quizas lo anti intuitivo: los cursos de preparación para las pruebas son insignificantes."
   ]
  },
  {
   "cell_type": "markdown",
   "id": "3d1ae5ca",
   "metadata": {},
   "source": [
    "## Entrenamiento del modelo Lineal Multiple"
   ]
  },
  {
   "cell_type": "code",
   "execution_count": 22,
   "id": "a40c00e9",
   "metadata": {},
   "outputs": [],
   "source": [
    "from sklearn.model_selection import train_test_split\n",
    "data_math = pd.DataFrame(datos[[\"reading score\", \"writing score\"]])\n",
    "x_train_m, x_test_m, y_train_m, y_test_m = train_test_split(data_math, datos[\"math score\"], test_size=0.3, random_state=42)"
   ]
  },
  {
   "cell_type": "code",
   "execution_count": 23,
   "id": "b6b46035",
   "metadata": {},
   "outputs": [],
   "source": [
    "#aplico modelo multilineal\n",
    "from sklearn import linear_model\n",
    "from sklearn.metrics import mean_squared_error, r2_score"
   ]
  },
  {
   "cell_type": "code",
   "execution_count": 24,
   "id": "d953a7f7",
   "metadata": {},
   "outputs": [
    {
     "data": {
      "text/html": [
       "<style>#sk-container-id-1 {color: black;background-color: white;}#sk-container-id-1 pre{padding: 0;}#sk-container-id-1 div.sk-toggleable {background-color: white;}#sk-container-id-1 label.sk-toggleable__label {cursor: pointer;display: block;width: 100%;margin-bottom: 0;padding: 0.3em;box-sizing: border-box;text-align: center;}#sk-container-id-1 label.sk-toggleable__label-arrow:before {content: \"▸\";float: left;margin-right: 0.25em;color: #696969;}#sk-container-id-1 label.sk-toggleable__label-arrow:hover:before {color: black;}#sk-container-id-1 div.sk-estimator:hover label.sk-toggleable__label-arrow:before {color: black;}#sk-container-id-1 div.sk-toggleable__content {max-height: 0;max-width: 0;overflow: hidden;text-align: left;background-color: #f0f8ff;}#sk-container-id-1 div.sk-toggleable__content pre {margin: 0.2em;color: black;border-radius: 0.25em;background-color: #f0f8ff;}#sk-container-id-1 input.sk-toggleable__control:checked~div.sk-toggleable__content {max-height: 200px;max-width: 100%;overflow: auto;}#sk-container-id-1 input.sk-toggleable__control:checked~label.sk-toggleable__label-arrow:before {content: \"▾\";}#sk-container-id-1 div.sk-estimator input.sk-toggleable__control:checked~label.sk-toggleable__label {background-color: #d4ebff;}#sk-container-id-1 div.sk-label input.sk-toggleable__control:checked~label.sk-toggleable__label {background-color: #d4ebff;}#sk-container-id-1 input.sk-hidden--visually {border: 0;clip: rect(1px 1px 1px 1px);clip: rect(1px, 1px, 1px, 1px);height: 1px;margin: -1px;overflow: hidden;padding: 0;position: absolute;width: 1px;}#sk-container-id-1 div.sk-estimator {font-family: monospace;background-color: #f0f8ff;border: 1px dotted black;border-radius: 0.25em;box-sizing: border-box;margin-bottom: 0.5em;}#sk-container-id-1 div.sk-estimator:hover {background-color: #d4ebff;}#sk-container-id-1 div.sk-parallel-item::after {content: \"\";width: 100%;border-bottom: 1px solid gray;flex-grow: 1;}#sk-container-id-1 div.sk-label:hover label.sk-toggleable__label {background-color: #d4ebff;}#sk-container-id-1 div.sk-serial::before {content: \"\";position: absolute;border-left: 1px solid gray;box-sizing: border-box;top: 0;bottom: 0;left: 50%;z-index: 0;}#sk-container-id-1 div.sk-serial {display: flex;flex-direction: column;align-items: center;background-color: white;padding-right: 0.2em;padding-left: 0.2em;position: relative;}#sk-container-id-1 div.sk-item {position: relative;z-index: 1;}#sk-container-id-1 div.sk-parallel {display: flex;align-items: stretch;justify-content: center;background-color: white;position: relative;}#sk-container-id-1 div.sk-item::before, #sk-container-id-1 div.sk-parallel-item::before {content: \"\";position: absolute;border-left: 1px solid gray;box-sizing: border-box;top: 0;bottom: 0;left: 50%;z-index: -1;}#sk-container-id-1 div.sk-parallel-item {display: flex;flex-direction: column;z-index: 1;position: relative;background-color: white;}#sk-container-id-1 div.sk-parallel-item:first-child::after {align-self: flex-end;width: 50%;}#sk-container-id-1 div.sk-parallel-item:last-child::after {align-self: flex-start;width: 50%;}#sk-container-id-1 div.sk-parallel-item:only-child::after {width: 0;}#sk-container-id-1 div.sk-dashed-wrapped {border: 1px dashed gray;margin: 0 0.4em 0.5em 0.4em;box-sizing: border-box;padding-bottom: 0.4em;background-color: white;}#sk-container-id-1 div.sk-label label {font-family: monospace;font-weight: bold;display: inline-block;line-height: 1.2em;}#sk-container-id-1 div.sk-label-container {text-align: center;}#sk-container-id-1 div.sk-container {/* jupyter's `normalize.less` sets `[hidden] { display: none; }` but bootstrap.min.css set `[hidden] { display: none !important; }` so we also need the `!important` here to be able to override the default hidden behavior on the sphinx rendered scikit-learn.org. See: https://github.com/scikit-learn/scikit-learn/issues/21755 */display: inline-block !important;position: relative;}#sk-container-id-1 div.sk-text-repr-fallback {display: none;}</style><div id=\"sk-container-id-1\" class=\"sk-top-container\"><div class=\"sk-text-repr-fallback\"><pre>LinearRegression()</pre><b>In a Jupyter environment, please rerun this cell to show the HTML representation or trust the notebook. <br />On GitHub, the HTML representation is unable to render, please try loading this page with nbviewer.org.</b></div><div class=\"sk-container\" hidden><div class=\"sk-item\"><div class=\"sk-estimator sk-toggleable\"><input class=\"sk-toggleable__control sk-hidden--visually\" id=\"sk-estimator-id-1\" type=\"checkbox\" checked><label for=\"sk-estimator-id-1\" class=\"sk-toggleable__label sk-toggleable__label-arrow\">LinearRegression</label><div class=\"sk-toggleable__content\"><pre>LinearRegression()</pre></div></div></div></div></div>"
      ],
      "text/plain": [
       "LinearRegression()"
      ]
     },
     "execution_count": 24,
     "metadata": {},
     "output_type": "execute_result"
    }
   ],
   "source": [
    "regresion_m = linear_model.LinearRegression()\n",
    "regresion_m.fit(x_train_m,y_train_m)"
   ]
  },
  {
   "cell_type": "markdown",
   "id": "cb3c81f9",
   "metadata": {},
   "source": [
    "## Predicciones del modelo Lineal Multiple"
   ]
  },
  {
   "cell_type": "code",
   "execution_count": 25,
   "id": "64bd06b8",
   "metadata": {},
   "outputs": [],
   "source": [
    "prediccion_math_1 = regresion_m.predict(x_train_m)"
   ]
  },
  {
   "cell_type": "code",
   "execution_count": 26,
   "id": "ad13931e",
   "metadata": {},
   "outputs": [
    {
     "name": "stdout",
     "output_type": "stream",
     "text": [
      "Mean squared error: 77.60\n",
      "Variance score: 0.67\n",
      "Root Mean Squared Error: 8.809102185612334\n"
     ]
    }
   ],
   "source": [
    "from sklearn.linear_model import LinearRegression\n",
    "from sklearn import metrics\n",
    "print(\"Mean squared error: %.2f\" % mean_squared_error(y_train_m, prediccion_math_1))\n",
    "print('Variance score: %.2f' % r2_score(y_train_m, prediccion_math_1))\n",
    "print('Root Mean Squared Error:', np.sqrt(metrics.mean_squared_error(y_train_m, prediccion_math_1)))"
   ]
  },
  {
   "cell_type": "code",
   "execution_count": 27,
   "id": "f0fe9fa1",
   "metadata": {},
   "outputs": [
    {
     "data": {
      "text/plain": [
       "reading score    70.0\n",
       "writing score    70.0\n",
       "dtype: float64"
      ]
     },
     "execution_count": 27,
     "metadata": {},
     "output_type": "execute_result"
    }
   ],
   "source": [
    "x_train_m.median()"
   ]
  },
  {
   "cell_type": "markdown",
   "id": "610d0ef6",
   "metadata": {},
   "source": [
    "Root Mean Squared Error es levemente superior al 10% de la mediana de los datos de entrenamiento, por lo que no es un buen desempeño del modelo. Esto se puede deber a que se necesitan mas datos o estudiar el fenomeno desde otras variables."
   ]
  },
  {
   "cell_type": "markdown",
   "id": "6587adab",
   "metadata": {},
   "source": [
    "## Ahora crearemos una nueva columna que contenga a las columnas de notas de asignaturas que quizás mejore el rendimiento de predicción"
   ]
  },
  {
   "cell_type": "code",
   "execution_count": 34,
   "id": "5e11a0c4",
   "metadata": {},
   "outputs": [
    {
     "data": {
      "text/html": [
       "<div>\n",
       "<style scoped>\n",
       "    .dataframe tbody tr th:only-of-type {\n",
       "        vertical-align: middle;\n",
       "    }\n",
       "\n",
       "    .dataframe tbody tr th {\n",
       "        vertical-align: top;\n",
       "    }\n",
       "\n",
       "    .dataframe thead th {\n",
       "        text-align: right;\n",
       "    }\n",
       "</style>\n",
       "<table border=\"1\" class=\"dataframe\">\n",
       "  <thead>\n",
       "    <tr style=\"text-align: right;\">\n",
       "      <th></th>\n",
       "      <th>gender</th>\n",
       "      <th>race/ethnicity</th>\n",
       "      <th>parental level of education</th>\n",
       "      <th>lunch</th>\n",
       "      <th>test preparation course</th>\n",
       "      <th>math score</th>\n",
       "      <th>reading score</th>\n",
       "      <th>writing score</th>\n",
       "      <th>Total mean score</th>\n",
       "      <th>Total average score</th>\n",
       "    </tr>\n",
       "  </thead>\n",
       "  <tbody>\n",
       "    <tr>\n",
       "      <th>0</th>\n",
       "      <td>0.0</td>\n",
       "      <td>3.0</td>\n",
       "      <td>4.0</td>\n",
       "      <td>1.0</td>\n",
       "      <td>0.0</td>\n",
       "      <td>59</td>\n",
       "      <td>70</td>\n",
       "      <td>78</td>\n",
       "      <td>69.000000</td>\n",
       "      <td>69.000000</td>\n",
       "    </tr>\n",
       "    <tr>\n",
       "      <th>1</th>\n",
       "      <td>1.0</td>\n",
       "      <td>3.0</td>\n",
       "      <td>0.0</td>\n",
       "      <td>1.0</td>\n",
       "      <td>1.0</td>\n",
       "      <td>96</td>\n",
       "      <td>93</td>\n",
       "      <td>87</td>\n",
       "      <td>92.000000</td>\n",
       "      <td>92.000000</td>\n",
       "    </tr>\n",
       "    <tr>\n",
       "      <th>2</th>\n",
       "      <td>0.0</td>\n",
       "      <td>3.0</td>\n",
       "      <td>4.0</td>\n",
       "      <td>0.0</td>\n",
       "      <td>1.0</td>\n",
       "      <td>57</td>\n",
       "      <td>76</td>\n",
       "      <td>77</td>\n",
       "      <td>70.000000</td>\n",
       "      <td>70.000000</td>\n",
       "    </tr>\n",
       "    <tr>\n",
       "      <th>3</th>\n",
       "      <td>1.0</td>\n",
       "      <td>1.0</td>\n",
       "      <td>4.0</td>\n",
       "      <td>0.0</td>\n",
       "      <td>1.0</td>\n",
       "      <td>70</td>\n",
       "      <td>70</td>\n",
       "      <td>63</td>\n",
       "      <td>67.666667</td>\n",
       "      <td>67.666667</td>\n",
       "    </tr>\n",
       "    <tr>\n",
       "      <th>4</th>\n",
       "      <td>0.0</td>\n",
       "      <td>3.0</td>\n",
       "      <td>0.0</td>\n",
       "      <td>1.0</td>\n",
       "      <td>1.0</td>\n",
       "      <td>83</td>\n",
       "      <td>85</td>\n",
       "      <td>86</td>\n",
       "      <td>84.666667</td>\n",
       "      <td>84.666667</td>\n",
       "    </tr>\n",
       "    <tr>\n",
       "      <th>...</th>\n",
       "      <td>...</td>\n",
       "      <td>...</td>\n",
       "      <td>...</td>\n",
       "      <td>...</td>\n",
       "      <td>...</td>\n",
       "      <td>...</td>\n",
       "      <td>...</td>\n",
       "      <td>...</td>\n",
       "      <td>...</td>\n",
       "      <td>...</td>\n",
       "    </tr>\n",
       "    <tr>\n",
       "      <th>995</th>\n",
       "      <td>1.0</td>\n",
       "      <td>2.0</td>\n",
       "      <td>4.0</td>\n",
       "      <td>1.0</td>\n",
       "      <td>1.0</td>\n",
       "      <td>77</td>\n",
       "      <td>77</td>\n",
       "      <td>71</td>\n",
       "      <td>75.000000</td>\n",
       "      <td>75.000000</td>\n",
       "    </tr>\n",
       "    <tr>\n",
       "      <th>996</th>\n",
       "      <td>1.0</td>\n",
       "      <td>2.0</td>\n",
       "      <td>4.0</td>\n",
       "      <td>1.0</td>\n",
       "      <td>1.0</td>\n",
       "      <td>80</td>\n",
       "      <td>66</td>\n",
       "      <td>66</td>\n",
       "      <td>70.666667</td>\n",
       "      <td>70.666667</td>\n",
       "    </tr>\n",
       "    <tr>\n",
       "      <th>997</th>\n",
       "      <td>0.0</td>\n",
       "      <td>0.0</td>\n",
       "      <td>2.0</td>\n",
       "      <td>1.0</td>\n",
       "      <td>0.0</td>\n",
       "      <td>67</td>\n",
       "      <td>86</td>\n",
       "      <td>86</td>\n",
       "      <td>79.666667</td>\n",
       "      <td>79.666667</td>\n",
       "    </tr>\n",
       "    <tr>\n",
       "      <th>998</th>\n",
       "      <td>1.0</td>\n",
       "      <td>4.0</td>\n",
       "      <td>2.0</td>\n",
       "      <td>1.0</td>\n",
       "      <td>1.0</td>\n",
       "      <td>80</td>\n",
       "      <td>72</td>\n",
       "      <td>62</td>\n",
       "      <td>71.333333</td>\n",
       "      <td>71.333333</td>\n",
       "    </tr>\n",
       "    <tr>\n",
       "      <th>999</th>\n",
       "      <td>1.0</td>\n",
       "      <td>3.0</td>\n",
       "      <td>2.0</td>\n",
       "      <td>1.0</td>\n",
       "      <td>1.0</td>\n",
       "      <td>58</td>\n",
       "      <td>47</td>\n",
       "      <td>45</td>\n",
       "      <td>50.000000</td>\n",
       "      <td>50.000000</td>\n",
       "    </tr>\n",
       "  </tbody>\n",
       "</table>\n",
       "<p>1000 rows × 10 columns</p>\n",
       "</div>"
      ],
      "text/plain": [
       "     gender  race/ethnicity  parental level of education  lunch  \\\n",
       "0       0.0             3.0                          4.0    1.0   \n",
       "1       1.0             3.0                          0.0    1.0   \n",
       "2       0.0             3.0                          4.0    0.0   \n",
       "3       1.0             1.0                          4.0    0.0   \n",
       "4       0.0             3.0                          0.0    1.0   \n",
       "..      ...             ...                          ...    ...   \n",
       "995     1.0             2.0                          4.0    1.0   \n",
       "996     1.0             2.0                          4.0    1.0   \n",
       "997     0.0             0.0                          2.0    1.0   \n",
       "998     1.0             4.0                          2.0    1.0   \n",
       "999     1.0             3.0                          2.0    1.0   \n",
       "\n",
       "     test preparation course  math score  reading score  writing score  \\\n",
       "0                        0.0          59             70             78   \n",
       "1                        1.0          96             93             87   \n",
       "2                        1.0          57             76             77   \n",
       "3                        1.0          70             70             63   \n",
       "4                        1.0          83             85             86   \n",
       "..                       ...         ...            ...            ...   \n",
       "995                      1.0          77             77             71   \n",
       "996                      1.0          80             66             66   \n",
       "997                      0.0          67             86             86   \n",
       "998                      1.0          80             72             62   \n",
       "999                      1.0          58             47             45   \n",
       "\n",
       "     Total mean score  Total average score  \n",
       "0           69.000000            69.000000  \n",
       "1           92.000000            92.000000  \n",
       "2           70.000000            70.000000  \n",
       "3           67.666667            67.666667  \n",
       "4           84.666667            84.666667  \n",
       "..                ...                  ...  \n",
       "995         75.000000            75.000000  \n",
       "996         70.666667            70.666667  \n",
       "997         79.666667            79.666667  \n",
       "998         71.333333            71.333333  \n",
       "999         50.000000            50.000000  \n",
       "\n",
       "[1000 rows x 10 columns]"
      ]
     },
     "execution_count": 34,
     "metadata": {},
     "output_type": "execute_result"
    }
   ],
   "source": [
    "datos[\"Total average score\"] = score_total\n",
    "datos"
   ]
  },
  {
   "cell_type": "code",
   "execution_count": 35,
   "id": "bea52788",
   "metadata": {
    "scrolled": false
   },
   "outputs": [
    {
     "data": {
      "text/html": [
       "<style type=\"text/css\">\n",
       "#T_c8bc2_row0_col0, #T_c8bc2_row1_col1, #T_c8bc2_row2_col2, #T_c8bc2_row3_col3, #T_c8bc2_row4_col4, #T_c8bc2_row5_col5, #T_c8bc2_row6_col6, #T_c8bc2_row7_col7, #T_c8bc2_row8_col8, #T_c8bc2_row8_col9, #T_c8bc2_row9_col8, #T_c8bc2_row9_col9 {\n",
       "  background-color: #7f2704;\n",
       "  color: #f1f1f1;\n",
       "}\n",
       "#T_c8bc2_row0_col1, #T_c8bc2_row8_col4, #T_c8bc2_row9_col4 {\n",
       "  background-color: #ffeede;\n",
       "  color: #000000;\n",
       "}\n",
       "#T_c8bc2_row0_col2 {\n",
       "  background-color: #fee9d3;\n",
       "  color: #000000;\n",
       "}\n",
       "#T_c8bc2_row0_col3, #T_c8bc2_row8_col2, #T_c8bc2_row9_col2 {\n",
       "  background-color: #fff5ea;\n",
       "  color: #000000;\n",
       "}\n",
       "#T_c8bc2_row0_col4, #T_c8bc2_row1_col0 {\n",
       "  background-color: #fdd4aa;\n",
       "  color: #000000;\n",
       "}\n",
       "#T_c8bc2_row0_col5 {\n",
       "  background-color: #fdd5ab;\n",
       "  color: #000000;\n",
       "}\n",
       "#T_c8bc2_row0_col6, #T_c8bc2_row1_col3, #T_c8bc2_row4_col1, #T_c8bc2_row4_col5, #T_c8bc2_row4_col6, #T_c8bc2_row4_col7, #T_c8bc2_row4_col8, #T_c8bc2_row4_col9, #T_c8bc2_row7_col0, #T_c8bc2_row7_col2, #T_c8bc2_row7_col4 {\n",
       "  background-color: #fff5eb;\n",
       "  color: #000000;\n",
       "}\n",
       "#T_c8bc2_row0_col7, #T_c8bc2_row2_col5, #T_c8bc2_row5_col2 {\n",
       "  background-color: #fff3e7;\n",
       "  color: #000000;\n",
       "}\n",
       "#T_c8bc2_row0_col8, #T_c8bc2_row0_col9 {\n",
       "  background-color: #feecd9;\n",
       "  color: #000000;\n",
       "}\n",
       "#T_c8bc2_row1_col2 {\n",
       "  background-color: #fee8d2;\n",
       "  color: #000000;\n",
       "}\n",
       "#T_c8bc2_row1_col4, #T_c8bc2_row6_col3 {\n",
       "  background-color: #fddab6;\n",
       "  color: #000000;\n",
       "}\n",
       "#T_c8bc2_row1_col5 {\n",
       "  background-color: #fdd1a3;\n",
       "  color: #000000;\n",
       "}\n",
       "#T_c8bc2_row1_col6 {\n",
       "  background-color: #fdd0a2;\n",
       "  color: #000000;\n",
       "}\n",
       "#T_c8bc2_row1_col7 {\n",
       "  background-color: #fdc189;\n",
       "  color: #000000;\n",
       "}\n",
       "#T_c8bc2_row1_col8, #T_c8bc2_row1_col9, #T_c8bc2_row3_col4 {\n",
       "  background-color: #fdc895;\n",
       "  color: #000000;\n",
       "}\n",
       "#T_c8bc2_row2_col0 {\n",
       "  background-color: #fdd8b2;\n",
       "  color: #000000;\n",
       "}\n",
       "#T_c8bc2_row2_col1 {\n",
       "  background-color: #fff0e1;\n",
       "  color: #000000;\n",
       "}\n",
       "#T_c8bc2_row2_col3 {\n",
       "  background-color: #fff2e6;\n",
       "  color: #000000;\n",
       "}\n",
       "#T_c8bc2_row2_col4 {\n",
       "  background-color: #fdd7af;\n",
       "  color: #000000;\n",
       "}\n",
       "#T_c8bc2_row2_col6 {\n",
       "  background-color: #feebd7;\n",
       "  color: #000000;\n",
       "}\n",
       "#T_c8bc2_row2_col7, #T_c8bc2_row5_col4 {\n",
       "  background-color: #fee5cc;\n",
       "  color: #000000;\n",
       "}\n",
       "#T_c8bc2_row2_col8, #T_c8bc2_row2_col9, #T_c8bc2_row4_col3 {\n",
       "  background-color: #feebd8;\n",
       "  color: #000000;\n",
       "}\n",
       "#T_c8bc2_row3_col0 {\n",
       "  background-color: #fdd9b4;\n",
       "  color: #000000;\n",
       "}\n",
       "#T_c8bc2_row3_col1 {\n",
       "  background-color: #fff3e6;\n",
       "  color: #000000;\n",
       "}\n",
       "#T_c8bc2_row3_col2 {\n",
       "  background-color: #fee7d1;\n",
       "  color: #000000;\n",
       "}\n",
       "#T_c8bc2_row3_col5, #T_c8bc2_row3_col7, #T_c8bc2_row3_col8, #T_c8bc2_row3_col9 {\n",
       "  background-color: #fdb271;\n",
       "  color: #000000;\n",
       "}\n",
       "#T_c8bc2_row3_col6 {\n",
       "  background-color: #fdbd83;\n",
       "  color: #000000;\n",
       "}\n",
       "#T_c8bc2_row4_col0 {\n",
       "  background-color: #fdd6ae;\n",
       "  color: #000000;\n",
       "}\n",
       "#T_c8bc2_row4_col2 {\n",
       "  background-color: #feead6;\n",
       "  color: #000000;\n",
       "}\n",
       "#T_c8bc2_row5_col0 {\n",
       "  background-color: #fdbf86;\n",
       "  color: #000000;\n",
       "}\n",
       "#T_c8bc2_row5_col1, #T_c8bc2_row7_col3 {\n",
       "  background-color: #fddbb8;\n",
       "  color: #000000;\n",
       "}\n",
       "#T_c8bc2_row5_col3 {\n",
       "  background-color: #fdc48f;\n",
       "  color: #000000;\n",
       "}\n",
       "#T_c8bc2_row5_col6 {\n",
       "  background-color: #e75c0c;\n",
       "  color: #f1f1f1;\n",
       "}\n",
       "#T_c8bc2_row5_col7 {\n",
       "  background-color: #e85d0c;\n",
       "  color: #f1f1f1;\n",
       "}\n",
       "#T_c8bc2_row5_col8, #T_c8bc2_row5_col9 {\n",
       "  background-color: #cb4302;\n",
       "  color: #f1f1f1;\n",
       "}\n",
       "#T_c8bc2_row6_col0 {\n",
       "  background-color: #fff0e2;\n",
       "  color: #000000;\n",
       "}\n",
       "#T_c8bc2_row6_col1 {\n",
       "  background-color: #fee6ce;\n",
       "  color: #000000;\n",
       "}\n",
       "#T_c8bc2_row6_col2 {\n",
       "  background-color: #fff4e9;\n",
       "  color: #000000;\n",
       "}\n",
       "#T_c8bc2_row6_col4 {\n",
       "  background-color: #ffeedd;\n",
       "  color: #000000;\n",
       "}\n",
       "#T_c8bc2_row6_col5 {\n",
       "  background-color: #ed6310;\n",
       "  color: #f1f1f1;\n",
       "}\n",
       "#T_c8bc2_row6_col7 {\n",
       "  background-color: #b03903;\n",
       "  color: #f1f1f1;\n",
       "}\n",
       "#T_c8bc2_row6_col8, #T_c8bc2_row6_col9, #T_c8bc2_row8_col6, #T_c8bc2_row9_col6 {\n",
       "  background-color: #a63603;\n",
       "  color: #f1f1f1;\n",
       "}\n",
       "#T_c8bc2_row7_col1 {\n",
       "  background-color: #fee4ca;\n",
       "  color: #000000;\n",
       "}\n",
       "#T_c8bc2_row7_col5 {\n",
       "  background-color: #f16913;\n",
       "  color: #f1f1f1;\n",
       "}\n",
       "#T_c8bc2_row7_col6 {\n",
       "  background-color: #b33b02;\n",
       "  color: #f1f1f1;\n",
       "}\n",
       "#T_c8bc2_row7_col8, #T_c8bc2_row7_col9 {\n",
       "  background-color: #ad3803;\n",
       "  color: #f1f1f1;\n",
       "}\n",
       "#T_c8bc2_row8_col0, #T_c8bc2_row9_col0 {\n",
       "  background-color: #fee7d0;\n",
       "  color: #000000;\n",
       "}\n",
       "#T_c8bc2_row8_col1, #T_c8bc2_row9_col1 {\n",
       "  background-color: #fee0c3;\n",
       "  color: #000000;\n",
       "}\n",
       "#T_c8bc2_row8_col3, #T_c8bc2_row9_col3 {\n",
       "  background-color: #fdd3a7;\n",
       "  color: #000000;\n",
       "}\n",
       "#T_c8bc2_row8_col5, #T_c8bc2_row9_col5 {\n",
       "  background-color: #d14501;\n",
       "  color: #f1f1f1;\n",
       "}\n",
       "#T_c8bc2_row8_col7, #T_c8bc2_row9_col7 {\n",
       "  background-color: #a93703;\n",
       "  color: #f1f1f1;\n",
       "}\n",
       "</style>\n",
       "<table id=\"T_c8bc2\">\n",
       "  <thead>\n",
       "    <tr>\n",
       "      <th class=\"blank level0\" >&nbsp;</th>\n",
       "      <th id=\"T_c8bc2_level0_col0\" class=\"col_heading level0 col0\" >gender</th>\n",
       "      <th id=\"T_c8bc2_level0_col1\" class=\"col_heading level0 col1\" >race/ethnicity</th>\n",
       "      <th id=\"T_c8bc2_level0_col2\" class=\"col_heading level0 col2\" >parental level of education</th>\n",
       "      <th id=\"T_c8bc2_level0_col3\" class=\"col_heading level0 col3\" >lunch</th>\n",
       "      <th id=\"T_c8bc2_level0_col4\" class=\"col_heading level0 col4\" >test preparation course</th>\n",
       "      <th id=\"T_c8bc2_level0_col5\" class=\"col_heading level0 col5\" >math score</th>\n",
       "      <th id=\"T_c8bc2_level0_col6\" class=\"col_heading level0 col6\" >reading score</th>\n",
       "      <th id=\"T_c8bc2_level0_col7\" class=\"col_heading level0 col7\" >writing score</th>\n",
       "      <th id=\"T_c8bc2_level0_col8\" class=\"col_heading level0 col8\" >Total mean score</th>\n",
       "      <th id=\"T_c8bc2_level0_col9\" class=\"col_heading level0 col9\" >Total average score</th>\n",
       "    </tr>\n",
       "  </thead>\n",
       "  <tbody>\n",
       "    <tr>\n",
       "      <th id=\"T_c8bc2_level0_row0\" class=\"row_heading level0 row0\" >gender</th>\n",
       "      <td id=\"T_c8bc2_row0_col0\" class=\"data row0 col0\" >1.000000</td>\n",
       "      <td id=\"T_c8bc2_row0_col1\" class=\"data row0 col1\" >0.047084</td>\n",
       "      <td id=\"T_c8bc2_row0_col2\" class=\"data row0 col2\" >0.022477</td>\n",
       "      <td id=\"T_c8bc2_row0_col3\" class=\"data row0 col3\" >0.015708</td>\n",
       "      <td id=\"T_c8bc2_row0_col4\" class=\"data row0 col4\" >0.032641</td>\n",
       "      <td id=\"T_c8bc2_row0_col5\" class=\"data row0 col5\" >0.153739</td>\n",
       "      <td id=\"T_c8bc2_row0_col6\" class=\"data row0 col6\" >-0.179531</td>\n",
       "      <td id=\"T_c8bc2_row0_col7\" class=\"data row0 col7\" >-0.232236</td>\n",
       "      <td id=\"T_c8bc2_row0_col8\" class=\"data row0 col8\" >-0.085768</td>\n",
       "      <td id=\"T_c8bc2_row0_col9\" class=\"data row0 col9\" >-0.085768</td>\n",
       "    </tr>\n",
       "    <tr>\n",
       "      <th id=\"T_c8bc2_level0_row1\" class=\"row_heading level0 row1\" >race/ethnicity</th>\n",
       "      <td id=\"T_c8bc2_row1_col0\" class=\"data row1 col0\" >0.047084</td>\n",
       "      <td id=\"T_c8bc2_row1_col1\" class=\"data row1 col1\" >1.000000</td>\n",
       "      <td id=\"T_c8bc2_row1_col2\" class=\"data row1 col2\" >0.033716</td>\n",
       "      <td id=\"T_c8bc2_row1_col3\" class=\"data row1 col3\" >0.011181</td>\n",
       "      <td id=\"T_c8bc2_row1_col4\" class=\"data row1 col4\" >-0.009688</td>\n",
       "      <td id=\"T_c8bc2_row1_col5\" class=\"data row1 col5\" >0.181307</td>\n",
       "      <td id=\"T_c8bc2_row1_col6\" class=\"data row1 col6\" >0.117902</td>\n",
       "      <td id=\"T_c8bc2_row1_col7\" class=\"data row1 col7\" >0.129787</td>\n",
       "      <td id=\"T_c8bc2_row1_col8\" class=\"data row1 col8\" >0.148476</td>\n",
       "      <td id=\"T_c8bc2_row1_col9\" class=\"data row1 col9\" >0.148476</td>\n",
       "    </tr>\n",
       "    <tr>\n",
       "      <th id=\"T_c8bc2_level0_row2\" class=\"row_heading level0 row2\" >parental level of education</th>\n",
       "      <td id=\"T_c8bc2_row2_col0\" class=\"data row2 col0\" >0.022477</td>\n",
       "      <td id=\"T_c8bc2_row2_col1\" class=\"data row2 col1\" >0.033716</td>\n",
       "      <td id=\"T_c8bc2_row2_col2\" class=\"data row2 col2\" >1.000000</td>\n",
       "      <td id=\"T_c8bc2_row2_col3\" class=\"data row2 col3\" >0.035081</td>\n",
       "      <td id=\"T_c8bc2_row2_col4\" class=\"data row2 col4\" >0.010275</td>\n",
       "      <td id=\"T_c8bc2_row2_col5\" class=\"data row2 col5\" >-0.069999</td>\n",
       "      <td id=\"T_c8bc2_row2_col6\" class=\"data row2 col6\" >-0.077714</td>\n",
       "      <td id=\"T_c8bc2_row2_col7\" class=\"data row2 col7\" >-0.088923</td>\n",
       "      <td id=\"T_c8bc2_row2_col8\" class=\"data row2 col8\" >-0.082902</td>\n",
       "      <td id=\"T_c8bc2_row2_col9\" class=\"data row2 col9\" >-0.082902</td>\n",
       "    </tr>\n",
       "    <tr>\n",
       "      <th id=\"T_c8bc2_level0_row3\" class=\"row_heading level0 row3\" >lunch</th>\n",
       "      <td id=\"T_c8bc2_row3_col0\" class=\"data row3 col0\" >0.015708</td>\n",
       "      <td id=\"T_c8bc2_row3_col1\" class=\"data row3 col1\" >0.011181</td>\n",
       "      <td id=\"T_c8bc2_row3_col2\" class=\"data row3 col2\" >0.035081</td>\n",
       "      <td id=\"T_c8bc2_row3_col3\" class=\"data row3 col3\" >1.000000</td>\n",
       "      <td id=\"T_c8bc2_row3_col4\" class=\"data row3 col4\" >0.093498</td>\n",
       "      <td id=\"T_c8bc2_row3_col5\" class=\"data row3 col5\" >0.301930</td>\n",
       "      <td id=\"T_c8bc2_row3_col6\" class=\"data row3 col6\" >0.200983</td>\n",
       "      <td id=\"T_c8bc2_row3_col7\" class=\"data row3 col7\" >0.197577</td>\n",
       "      <td id=\"T_c8bc2_row3_col8\" class=\"data row3 col8\" >0.245682</td>\n",
       "      <td id=\"T_c8bc2_row3_col9\" class=\"data row3 col9\" >0.245682</td>\n",
       "    </tr>\n",
       "    <tr>\n",
       "      <th id=\"T_c8bc2_level0_row4\" class=\"row_heading level0 row4\" >test preparation course</th>\n",
       "      <td id=\"T_c8bc2_row4_col0\" class=\"data row4 col0\" >0.032641</td>\n",
       "      <td id=\"T_c8bc2_row4_col1\" class=\"data row4 col1\" >-0.009688</td>\n",
       "      <td id=\"T_c8bc2_row4_col2\" class=\"data row4 col2\" >0.010275</td>\n",
       "      <td id=\"T_c8bc2_row4_col3\" class=\"data row4 col3\" >0.093498</td>\n",
       "      <td id=\"T_c8bc2_row4_col4\" class=\"data row4 col4\" >1.000000</td>\n",
       "      <td id=\"T_c8bc2_row4_col5\" class=\"data row4 col5\" >-0.090727</td>\n",
       "      <td id=\"T_c8bc2_row4_col6\" class=\"data row4 col6\" >-0.176620</td>\n",
       "      <td id=\"T_c8bc2_row4_col7\" class=\"data row4 col7\" >-0.254463</td>\n",
       "      <td id=\"T_c8bc2_row4_col8\" class=\"data row4 col8\" >-0.181139</td>\n",
       "      <td id=\"T_c8bc2_row4_col9\" class=\"data row4 col9\" >-0.181139</td>\n",
       "    </tr>\n",
       "    <tr>\n",
       "      <th id=\"T_c8bc2_level0_row5\" class=\"row_heading level0 row5\" >math score</th>\n",
       "      <td id=\"T_c8bc2_row5_col0\" class=\"data row5 col0\" >0.153739</td>\n",
       "      <td id=\"T_c8bc2_row5_col1\" class=\"data row5 col1\" >0.181307</td>\n",
       "      <td id=\"T_c8bc2_row5_col2\" class=\"data row5 col2\" >-0.069999</td>\n",
       "      <td id=\"T_c8bc2_row5_col3\" class=\"data row5 col3\" >0.301930</td>\n",
       "      <td id=\"T_c8bc2_row5_col4\" class=\"data row5 col4\" >-0.090727</td>\n",
       "      <td id=\"T_c8bc2_row5_col5\" class=\"data row5 col5\" >1.000000</td>\n",
       "      <td id=\"T_c8bc2_row5_col6\" class=\"data row5 col6\" >0.614651</td>\n",
       "      <td id=\"T_c8bc2_row5_col7\" class=\"data row5 col7\" >0.587189</td>\n",
       "      <td id=\"T_c8bc2_row5_col8\" class=\"data row5 col8\" >0.745712</td>\n",
       "      <td id=\"T_c8bc2_row5_col9\" class=\"data row5 col9\" >0.745712</td>\n",
       "    </tr>\n",
       "    <tr>\n",
       "      <th id=\"T_c8bc2_level0_row6\" class=\"row_heading level0 row6\" >reading score</th>\n",
       "      <td id=\"T_c8bc2_row6_col0\" class=\"data row6 col0\" >-0.179531</td>\n",
       "      <td id=\"T_c8bc2_row6_col1\" class=\"data row6 col1\" >0.117902</td>\n",
       "      <td id=\"T_c8bc2_row6_col2\" class=\"data row6 col2\" >-0.077714</td>\n",
       "      <td id=\"T_c8bc2_row6_col3\" class=\"data row6 col3\" >0.200983</td>\n",
       "      <td id=\"T_c8bc2_row6_col4\" class=\"data row6 col4\" >-0.176620</td>\n",
       "      <td id=\"T_c8bc2_row6_col5\" class=\"data row6 col5\" >0.614651</td>\n",
       "      <td id=\"T_c8bc2_row6_col6\" class=\"data row6 col6\" >1.000000</td>\n",
       "      <td id=\"T_c8bc2_row6_col7\" class=\"data row6 col7\" >0.812124</td>\n",
       "      <td id=\"T_c8bc2_row6_col8\" class=\"data row6 col8\" >0.850598</td>\n",
       "      <td id=\"T_c8bc2_row6_col9\" class=\"data row6 col9\" >0.850598</td>\n",
       "    </tr>\n",
       "    <tr>\n",
       "      <th id=\"T_c8bc2_level0_row7\" class=\"row_heading level0 row7\" >writing score</th>\n",
       "      <td id=\"T_c8bc2_row7_col0\" class=\"data row7 col0\" >-0.232236</td>\n",
       "      <td id=\"T_c8bc2_row7_col1\" class=\"data row7 col1\" >0.129787</td>\n",
       "      <td id=\"T_c8bc2_row7_col2\" class=\"data row7 col2\" >-0.088923</td>\n",
       "      <td id=\"T_c8bc2_row7_col3\" class=\"data row7 col3\" >0.197577</td>\n",
       "      <td id=\"T_c8bc2_row7_col4\" class=\"data row7 col4\" >-0.254463</td>\n",
       "      <td id=\"T_c8bc2_row7_col5\" class=\"data row7 col5\" >0.587189</td>\n",
       "      <td id=\"T_c8bc2_row7_col6\" class=\"data row7 col6\" >0.812124</td>\n",
       "      <td id=\"T_c8bc2_row7_col7\" class=\"data row7 col7\" >1.000000</td>\n",
       "      <td id=\"T_c8bc2_row7_col8\" class=\"data row7 col8\" >0.831815</td>\n",
       "      <td id=\"T_c8bc2_row7_col9\" class=\"data row7 col9\" >0.831815</td>\n",
       "    </tr>\n",
       "    <tr>\n",
       "      <th id=\"T_c8bc2_level0_row8\" class=\"row_heading level0 row8\" >Total mean score</th>\n",
       "      <td id=\"T_c8bc2_row8_col0\" class=\"data row8 col0\" >-0.085768</td>\n",
       "      <td id=\"T_c8bc2_row8_col1\" class=\"data row8 col1\" >0.148476</td>\n",
       "      <td id=\"T_c8bc2_row8_col2\" class=\"data row8 col2\" >-0.082902</td>\n",
       "      <td id=\"T_c8bc2_row8_col3\" class=\"data row8 col3\" >0.245682</td>\n",
       "      <td id=\"T_c8bc2_row8_col4\" class=\"data row8 col4\" >-0.181139</td>\n",
       "      <td id=\"T_c8bc2_row8_col5\" class=\"data row8 col5\" >0.745712</td>\n",
       "      <td id=\"T_c8bc2_row8_col6\" class=\"data row8 col6\" >0.850598</td>\n",
       "      <td id=\"T_c8bc2_row8_col7\" class=\"data row8 col7\" >0.831815</td>\n",
       "      <td id=\"T_c8bc2_row8_col8\" class=\"data row8 col8\" >1.000000</td>\n",
       "      <td id=\"T_c8bc2_row8_col9\" class=\"data row8 col9\" >1.000000</td>\n",
       "    </tr>\n",
       "    <tr>\n",
       "      <th id=\"T_c8bc2_level0_row9\" class=\"row_heading level0 row9\" >Total average score</th>\n",
       "      <td id=\"T_c8bc2_row9_col0\" class=\"data row9 col0\" >-0.085768</td>\n",
       "      <td id=\"T_c8bc2_row9_col1\" class=\"data row9 col1\" >0.148476</td>\n",
       "      <td id=\"T_c8bc2_row9_col2\" class=\"data row9 col2\" >-0.082902</td>\n",
       "      <td id=\"T_c8bc2_row9_col3\" class=\"data row9 col3\" >0.245682</td>\n",
       "      <td id=\"T_c8bc2_row9_col4\" class=\"data row9 col4\" >-0.181139</td>\n",
       "      <td id=\"T_c8bc2_row9_col5\" class=\"data row9 col5\" >0.745712</td>\n",
       "      <td id=\"T_c8bc2_row9_col6\" class=\"data row9 col6\" >0.850598</td>\n",
       "      <td id=\"T_c8bc2_row9_col7\" class=\"data row9 col7\" >0.831815</td>\n",
       "      <td id=\"T_c8bc2_row9_col8\" class=\"data row9 col8\" >1.000000</td>\n",
       "      <td id=\"T_c8bc2_row9_col9\" class=\"data row9 col9\" >1.000000</td>\n",
       "    </tr>\n",
       "  </tbody>\n",
       "</table>\n"
      ],
      "text/plain": [
       "<pandas.io.formats.style.Styler at 0x246a28be850>"
      ]
     },
     "execution_count": 35,
     "metadata": {},
     "output_type": "execute_result"
    }
   ],
   "source": [
    "corr = datos.corr(method=\"kendall\")\n",
    "corr.style.background_gradient(cmap = 'Oranges')"
   ]
  },
  {
   "cell_type": "markdown",
   "id": "eef3fc1d",
   "metadata": {},
   "source": [
    "Al calcular el desempeño general (promedio simple entre las tres áreas) podemos observar que el desempeño es levemente mejor en la población femenina que la masculina, correspondiendose a la muy leve correlación inversa existente entre el género y el puntaje promedio total."
   ]
  },
  {
   "cell_type": "code",
   "execution_count": 33,
   "id": "5a12935d",
   "metadata": {},
   "outputs": [
    {
     "data": {
      "text/plain": [
       "<Axes: xlabel='gender', ylabel='Total average score'>"
      ]
     },
     "execution_count": 33,
     "metadata": {},
     "output_type": "execute_result"
    },
    {
     "data": {
      "image/png": "[encoded data removed]",
      "text/plain": [
       "<Figure size 640x480 with 1 Axes>"
      ]
     },
     "metadata": {},
     "output_type": "display_data"
    }
   ],
   "source": [
    "sns.boxplot(x = datos[\"gender\"],y = datos[\"Total average score\"])"
   ]
  },
  {
   "cell_type": "markdown",
   "id": "3ea3c3b9",
   "metadata": {},
   "source": [
    "## Entrenamiento"
   ]
  },
  {
   "cell_type": "code",
   "execution_count": 36,
   "id": "d65424ea",
   "metadata": {},
   "outputs": [],
   "source": [
    "data = pd.DataFrame(datos[[\"math score\", \"reading score\", \"writing score\"]])\n",
    "x_train, x_test, y_train, y_test = train_test_split(data, datos[\"Total mean score\"], test_size=0.3, random_state=42)"
   ]
  },
  {
   "cell_type": "code",
   "execution_count": 37,
   "id": "e9bbe0c3",
   "metadata": {},
   "outputs": [
    {
     "data": {
      "text/html": [
       "<style>#sk-container-id-2 {color: black;background-color: white;}#sk-container-id-2 pre{padding: 0;}#sk-container-id-2 div.sk-toggleable {background-color: white;}#sk-container-id-2 label.sk-toggleable__label {cursor: pointer;display: block;width: 100%;margin-bottom: 0;padding: 0.3em;box-sizing: border-box;text-align: center;}#sk-container-id-2 label.sk-toggleable__label-arrow:before {content: \"▸\";float: left;margin-right: 0.25em;color: #696969;}#sk-container-id-2 label.sk-toggleable__label-arrow:hover:before {color: black;}#sk-container-id-2 div.sk-estimator:hover label.sk-toggleable__label-arrow:before {color: black;}#sk-container-id-2 div.sk-toggleable__content {max-height: 0;max-width: 0;overflow: hidden;text-align: left;background-color: #f0f8ff;}#sk-container-id-2 div.sk-toggleable__content pre {margin: 0.2em;color: black;border-radius: 0.25em;background-color: #f0f8ff;}#sk-container-id-2 input.sk-toggleable__control:checked~div.sk-toggleable__content {max-height: 200px;max-width: 100%;overflow: auto;}#sk-container-id-2 input.sk-toggleable__control:checked~label.sk-toggleable__label-arrow:before {content: \"▾\";}#sk-container-id-2 div.sk-estimator input.sk-toggleable__control:checked~label.sk-toggleable__label {background-color: #d4ebff;}#sk-container-id-2 div.sk-label input.sk-toggleable__control:checked~label.sk-toggleable__label {background-color: #d4ebff;}#sk-container-id-2 input.sk-hidden--visually {border: 0;clip: rect(1px 1px 1px 1px);clip: rect(1px, 1px, 1px, 1px);height: 1px;margin: -1px;overflow: hidden;padding: 0;position: absolute;width: 1px;}#sk-container-id-2 div.sk-estimator {font-family: monospace;background-color: #f0f8ff;border: 1px dotted black;border-radius: 0.25em;box-sizing: border-box;margin-bottom: 0.5em;}#sk-container-id-2 div.sk-estimator:hover {background-color: #d4ebff;}#sk-container-id-2 div.sk-parallel-item::after {content: \"\";width: 100%;border-bottom: 1px solid gray;flex-grow: 1;}#sk-container-id-2 div.sk-label:hover label.sk-toggleable__label {background-color: #d4ebff;}#sk-container-id-2 div.sk-serial::before {content: \"\";position: absolute;border-left: 1px solid gray;box-sizing: border-box;top: 0;bottom: 0;left: 50%;z-index: 0;}#sk-container-id-2 div.sk-serial {display: flex;flex-direction: column;align-items: center;background-color: white;padding-right: 0.2em;padding-left: 0.2em;position: relative;}#sk-container-id-2 div.sk-item {position: relative;z-index: 1;}#sk-container-id-2 div.sk-parallel {display: flex;align-items: stretch;justify-content: center;background-color: white;position: relative;}#sk-container-id-2 div.sk-item::before, #sk-container-id-2 div.sk-parallel-item::before {content: \"\";position: absolute;border-left: 1px solid gray;box-sizing: border-box;top: 0;bottom: 0;left: 50%;z-index: -1;}#sk-container-id-2 div.sk-parallel-item {display: flex;flex-direction: column;z-index: 1;position: relative;background-color: white;}#sk-container-id-2 div.sk-parallel-item:first-child::after {align-self: flex-end;width: 50%;}#sk-container-id-2 div.sk-parallel-item:last-child::after {align-self: flex-start;width: 50%;}#sk-container-id-2 div.sk-parallel-item:only-child::after {width: 0;}#sk-container-id-2 div.sk-dashed-wrapped {border: 1px dashed gray;margin: 0 0.4em 0.5em 0.4em;box-sizing: border-box;padding-bottom: 0.4em;background-color: white;}#sk-container-id-2 div.sk-label label {font-family: monospace;font-weight: bold;display: inline-block;line-height: 1.2em;}#sk-container-id-2 div.sk-label-container {text-align: center;}#sk-container-id-2 div.sk-container {/* jupyter's `normalize.less` sets `[hidden] { display: none; }` but bootstrap.min.css set `[hidden] { display: none !important; }` so we also need the `!important` here to be able to override the default hidden behavior on the sphinx rendered scikit-learn.org. See: https://github.com/scikit-learn/scikit-learn/issues/21755 */display: inline-block !important;position: relative;}#sk-container-id-2 div.sk-text-repr-fallback {display: none;}</style><div id=\"sk-container-id-2\" class=\"sk-top-container\"><div class=\"sk-text-repr-fallback\"><pre>LinearRegression()</pre><b>In a Jupyter environment, please rerun this cell to show the HTML representation or trust the notebook. <br />On GitHub, the HTML representation is unable to render, please try loading this page with nbviewer.org.</b></div><div class=\"sk-container\" hidden><div class=\"sk-item\"><div class=\"sk-estimator sk-toggleable\"><input class=\"sk-toggleable__control sk-hidden--visually\" id=\"sk-estimator-id-2\" type=\"checkbox\" checked><label for=\"sk-estimator-id-2\" class=\"sk-toggleable__label sk-toggleable__label-arrow\">LinearRegression</label><div class=\"sk-toggleable__content\"><pre>LinearRegression()</pre></div></div></div></div></div>"
      ],
      "text/plain": [
       "LinearRegression()"
      ]
     },
     "execution_count": 37,
     "metadata": {},
     "output_type": "execute_result"
    }
   ],
   "source": [
    "regresion = linear_model.LinearRegression()\n",
    "regresion.fit(x_train,y_train)"
   ]
  },
  {
   "cell_type": "code",
   "execution_count": 38,
   "id": "67fedebd",
   "metadata": {},
   "outputs": [],
   "source": [
    "prediccion_train = regresion.predict(x_train)"
   ]
  },
  {
   "cell_type": "code",
   "execution_count": 39,
   "id": "eef475aa",
   "metadata": {},
   "outputs": [
    {
     "name": "stdout",
     "output_type": "stream",
     "text": [
      "Mean squared error: 0.00\n",
      "Variance score: 1.00\n",
      "Root Mean Squared Error: 1.5868914016181196e-14\n"
     ]
    }
   ],
   "source": [
    "print(\"Mean squared error: %.2f\" % mean_squared_error(y_train, prediccion_train))\n",
    "print('Variance score: %.2f' % r2_score(y_train, prediccion_train))\n",
    "print('Root Mean Squared Error:', np.sqrt(metrics.mean_squared_error(y_train, prediccion_train)))"
   ]
  },
  {
   "cell_type": "markdown",
   "id": "c4dece81",
   "metadata": {},
   "source": [
    "## Predicción"
   ]
  },
  {
   "cell_type": "code",
   "execution_count": 40,
   "id": "053bbcbc",
   "metadata": {},
   "outputs": [],
   "source": [
    "prediccion = regresion.predict(x_test)"
   ]
  },
  {
   "cell_type": "code",
   "execution_count": 41,
   "id": "550651b5",
   "metadata": {},
   "outputs": [
    {
     "name": "stdout",
     "output_type": "stream",
     "text": [
      "Mean squared error: 0.00\n",
      "Variance score: 1.00\n",
      "Root Mean Squared Error: 1.6352777400934683e-14\n"
     ]
    }
   ],
   "source": [
    "print(\"Mean squared error: %.2f\" % mean_squared_error(y_test, prediccion))\n",
    "print('Variance score: %.2f' % r2_score(y_test, prediccion))\n",
    "print('Root Mean Squared Error:', np.sqrt(metrics.mean_squared_error(y_test, prediccion)))"
   ]
  },
  {
   "cell_type": "markdown",
   "id": "3a6b9c35",
   "metadata": {},
   "source": [
    "Por lo tanto se observa que agrupando las notas de los distintos cursos se obtiene una mejor predicción y que en realidad los demás factores como etnicidad, educación de los padres, genero, almuerzo y cursos de preparación, si bien juegan un papel en la obtención de puntajes estos son muy despreciables en comparación con la obtención de notas entre las asignaturas."
   ]
  },
  {
   "cell_type": "code",
   "execution_count": null,
   "id": "02c523ed",
   "metadata": {},
   "outputs": [],
   "source": []
  }
 ],
 "metadata": {
  "kernelspec": {
   "display_name": "Python 3 (ipykernel)",
   "language": "python",
   "name": "python3"
  },
  "language_info": {
   "codemirror_mode": {
    "name": "ipython",
    "version": 3
   },
   "file_extension": ".py",
   "mimetype": "text/x-python",
   "name": "python",
   "nbconvert_exporter": "python",
   "pygments_lexer": "ipython3",
   "version": "3.11.1"
  }
 },
 "nbformat": 4,
 "nbformat_minor": 5
}
